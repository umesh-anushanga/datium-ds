{
 "cells": [
  {
   "cell_type": "markdown",
   "id": "346405c3",
   "metadata": {},
   "source": [
    "# Datium - Sold Amount Prediction"
   ]
  },
  {
   "cell_type": "markdown",
   "id": "dee4aa9c",
   "metadata": {},
   "source": [
    "## Import Training Data"
   ]
  },
  {
   "cell_type": "code",
   "execution_count": 1,
   "id": "35db6fea",
   "metadata": {},
   "outputs": [],
   "source": [
    "import pandas as pd\n",
    "import numpy as np\n",
    "from numpy import nan\n",
    "import seaborn as sns\n",
    "import matplotlib.pyplot as plt\n",
    "from numpy import nan\n",
    "%matplotlib inline\n",
    "import warnings\n",
    "warnings.filterwarnings('ignore')"
   ]
  },
  {
   "cell_type": "code",
   "execution_count": 2,
   "id": "46a12eac",
   "metadata": {},
   "outputs": [],
   "source": [
    "df = pd.read_csv('DatiumTrain.rpt', delimiter='\\t')"
   ]
  },
  {
   "cell_type": "code",
   "execution_count": 3,
   "id": "3888e446",
   "metadata": {},
   "outputs": [
    {
     "data": {
      "text/plain": [
       "(50704, 130)"
      ]
     },
     "execution_count": 3,
     "metadata": {},
     "output_type": "execute_result"
    }
   ],
   "source": [
    "df.shape"
   ]
  },
  {
   "cell_type": "markdown",
   "id": "e9e1f5d8",
   "metadata": {},
   "source": [
    "* Dataset contains 50,704 number of rows and 130 number of columns"
   ]
  },
  {
   "cell_type": "code",
   "execution_count": 4,
   "id": "bad2472b",
   "metadata": {
    "scrolled": true
   },
   "outputs": [
    {
     "data": {
      "text/plain": [
       "Index(['Make', 'Model', 'MakeCode', 'FamilyCode', 'YearGroup', 'MonthGroup',\n",
       "       'SequenceNum', 'Description', 'CurrentRelease', 'ImportFlag',\n",
       "       ...\n",
       "       'PrivateMax', 'NewPrice', 'Colour', 'Branch', 'SaleCategory',\n",
       "       'Sold_Date', 'Compliance_Date', 'Age_Comp_Months', 'KM', 'Sold_Amount'],\n",
       "      dtype='object', length=130)"
      ]
     },
     "execution_count": 4,
     "metadata": {},
     "output_type": "execute_result"
    }
   ],
   "source": [
    "df.columns"
   ]
  },
  {
   "cell_type": "markdown",
   "id": "3a43d5fa",
   "metadata": {},
   "source": [
    "## EDA report using sweetviz"
   ]
  },
  {
   "cell_type": "code",
   "execution_count": 5,
   "id": "083f8962",
   "metadata": {},
   "outputs": [],
   "source": [
    "#when generating EDA report, 'EngineDescription' gives an error. Fixing the error here\n",
    "df['EngineDescription'] = pd.to_numeric(df['EngineDescription'], errors='coerce')"
   ]
  },
  {
   "cell_type": "code",
   "execution_count": 6,
   "id": "99742f02",
   "metadata": {},
   "outputs": [
    {
     "name": "stdout",
     "output_type": "stream",
     "text": [
      "Requirement already satisfied: sweetviz in /Users/ttg/pyenv/lib/python3.7/site-packages (2.1.3)\n",
      "Requirement already satisfied: pandas!=1.0.0,!=1.0.1,!=1.0.2,>=0.25.3 in /Users/ttg/pyenv/lib/python3.7/site-packages (from sweetviz) (1.2.4)\n",
      "Requirement already satisfied: numpy>=1.16.0 in /Users/ttg/pyenv/lib/python3.7/site-packages (from sweetviz) (1.21.6)\n",
      "Requirement already satisfied: matplotlib>=3.1.3 in /Users/ttg/pyenv/lib/python3.7/site-packages (from sweetviz) (3.5.1)\n",
      "Requirement already satisfied: importlib-resources>=1.2.0 in /Users/ttg/pyenv/lib/python3.7/site-packages (from sweetviz) (5.6.0)\n",
      "Requirement already satisfied: tqdm>=4.43.0 in /Users/ttg/pyenv/lib/python3.7/site-packages (from sweetviz) (4.63.0)\n",
      "Requirement already satisfied: jinja2>=2.11.1 in /Users/ttg/pyenv/lib/python3.7/site-packages (from sweetviz) (2.11.3)\n",
      "Requirement already satisfied: scipy>=1.3.2 in /Users/ttg/pyenv/lib/python3.7/site-packages (from sweetviz) (1.7.3)\n",
      "Requirement already satisfied: zipp>=3.1.0 in /Users/ttg/pyenv/lib/python3.7/site-packages (from importlib-resources>=1.2.0->sweetviz) (3.4.1)\n",
      "Requirement already satisfied: MarkupSafe>=0.23 in /Users/ttg/pyenv/lib/python3.7/site-packages (from jinja2>=2.11.1->sweetviz) (2.0.1)\n",
      "Requirement already satisfied: kiwisolver>=1.0.1 in /Users/ttg/pyenv/lib/python3.7/site-packages (from matplotlib>=3.1.3->sweetviz) (1.3.2)\n",
      "Requirement already satisfied: pillow>=6.2.0 in /Users/ttg/pyenv/lib/python3.7/site-packages (from matplotlib>=3.1.3->sweetviz) (9.0.0)\n",
      "Requirement already satisfied: python-dateutil>=2.7 in /Users/ttg/pyenv/lib/python3.7/site-packages (from matplotlib>=3.1.3->sweetviz) (2.8.1)\n",
      "Requirement already satisfied: cycler>=0.10 in /Users/ttg/pyenv/lib/python3.7/site-packages (from matplotlib>=3.1.3->sweetviz) (0.11.0)\n",
      "Requirement already satisfied: packaging>=20.0 in /Users/ttg/pyenv/lib/python3.7/site-packages (from matplotlib>=3.1.3->sweetviz) (21.3)\n",
      "Requirement already satisfied: pyparsing>=2.2.1 in /Users/ttg/pyenv/lib/python3.7/site-packages (from matplotlib>=3.1.3->sweetviz) (2.4.7)\n",
      "Requirement already satisfied: fonttools>=4.22.0 in /Users/ttg/pyenv/lib/python3.7/site-packages (from matplotlib>=3.1.3->sweetviz) (4.29.0)\n",
      "Requirement already satisfied: pytz>=2017.3 in /Users/ttg/pyenv/lib/python3.7/site-packages (from pandas!=1.0.0,!=1.0.1,!=1.0.2,>=0.25.3->sweetviz) (2021.1)\n",
      "Requirement already satisfied: six>=1.5 in /Users/ttg/pyenv/lib/python3.7/site-packages (from python-dateutil>=2.7->matplotlib>=3.1.3->sweetviz) (1.16.0)\n",
      "\u001b[33mWARNING: You are using pip version 21.1.2; however, version 23.1 is available.\n",
      "You should consider upgrading via the '/Users/ttg/pyenv/bin/python3 -m pip install --upgrade pip' command.\u001b[0m\n"
     ]
    }
   ],
   "source": [
    "!pip install sweetviz"
   ]
  },
  {
   "cell_type": "code",
   "execution_count": 7,
   "id": "59dbda9f",
   "metadata": {},
   "outputs": [],
   "source": [
    "import sweetviz as sv"
   ]
  },
  {
   "cell_type": "code",
   "execution_count": 8,
   "id": "4ad64b5e",
   "metadata": {},
   "outputs": [],
   "source": [
    "def generate_EDA_report(df, report_name):\n",
    "    print('data is being analyzed')\n",
    "        \n",
    "    report = sv.analyze(df)\n",
    "        \n",
    "    file_name = '{report_name}_EDA_report.html'.format(report_name=report_name)\n",
    "        \n",
    "    report.show_html(filepath=file_name, open_browser=True)\n",
    "    print(\"Done\")"
   ]
  },
  {
   "cell_type": "code",
   "execution_count": 9,
   "id": "0c6c00b4",
   "metadata": {},
   "outputs": [
    {
     "name": "stdout",
     "output_type": "stream",
     "text": [
      "data is being analyzed\n"
     ]
    },
    {
     "data": {
      "application/vnd.jupyter.widget-view+json": {
       "model_id": "30a2e29c68a04e83b8076b35dfff182e",
       "version_major": 2,
       "version_minor": 0
      },
      "text/plain": [
       "                                             |          | [  0%]   00:00 -> (? left)"
      ]
     },
     "metadata": {},
     "output_type": "display_data"
    },
    {
     "name": "stdout",
     "output_type": "stream",
     "text": [
      "Report DatiumTrain1_EDA_report.html was generated! NOTEBOOK/COLAB USERS: the web browser MAY not pop up, regardless, the report IS saved in your notebook/colab files.\n",
      "Done\n"
     ]
    }
   ],
   "source": [
    "generate_EDA_report(df, 'DatiumTrain1')"
   ]
  },
  {
   "cell_type": "markdown",
   "id": "4c5bc0bf",
   "metadata": {},
   "source": [
    "* Looking at the EDA report, There are columns which contain more 90% of null values.(eg: 'BadgeSecondaryDescription', 'BodyConfigDescription', 'WheelBaseConfig', and 'Roofline' etc.)"
   ]
  },
  {
   "cell_type": "markdown",
   "id": "1d65996c",
   "metadata": {},
   "source": [
    "* In this modeling exercise, Our target variable is 'Sold_Amount', It also contains 4 null values"
   ]
  },
  {
   "cell_type": "markdown",
   "id": "8a764362",
   "metadata": {},
   "source": [
    "## Feature Selection and Engineering"
   ]
  },
  {
   "cell_type": "markdown",
   "id": "3b9acc07",
   "metadata": {},
   "source": [
    "* Based on correlation values showed in the EDA report and my domain knowledge, I have choosen following columns to continue the model building"
   ]
  },
  {
   "cell_type": "markdown",
   "id": "a8198899",
   "metadata": {},
   "source": [
    "* This problem belongs to the class of regression"
   ]
  },
  {
   "cell_type": "code",
   "execution_count": 6,
   "id": "cd2759f4",
   "metadata": {},
   "outputs": [],
   "source": [
    "predictors = ['NewPrice','KerbWeight','Age_Comp_Months','KM'\n",
    "              ,'RearRimDesc','VFactsPrice','Make']\n",
    "\n",
    "target = ['Sold_Amount']"
   ]
  },
  {
   "cell_type": "code",
   "execution_count": 7,
   "id": "c898ce3c",
   "metadata": {},
   "outputs": [],
   "source": [
    "df2 = df[predictors+target]"
   ]
  },
  {
   "cell_type": "code",
   "execution_count": 8,
   "id": "f2693109",
   "metadata": {
    "scrolled": false
   },
   "outputs": [
    {
     "data": {
      "text/html": [
       "<div>\n",
       "<style scoped>\n",
       "    .dataframe tbody tr th:only-of-type {\n",
       "        vertical-align: middle;\n",
       "    }\n",
       "\n",
       "    .dataframe tbody tr th {\n",
       "        vertical-align: top;\n",
       "    }\n",
       "\n",
       "    .dataframe thead th {\n",
       "        text-align: right;\n",
       "    }\n",
       "</style>\n",
       "<table border=\"1\" class=\"dataframe\">\n",
       "  <thead>\n",
       "    <tr style=\"text-align: right;\">\n",
       "      <th></th>\n",
       "      <th>NewPrice</th>\n",
       "      <th>KerbWeight</th>\n",
       "      <th>Age_Comp_Months</th>\n",
       "      <th>KM</th>\n",
       "      <th>RearRimDesc</th>\n",
       "      <th>VFactsPrice</th>\n",
       "      <th>Make</th>\n",
       "      <th>Sold_Amount</th>\n",
       "    </tr>\n",
       "  </thead>\n",
       "  <tbody>\n",
       "    <tr>\n",
       "      <th>0</th>\n",
       "      <td>34790.0</td>\n",
       "      <td>1690.0</td>\n",
       "      <td>93.0</td>\n",
       "      <td>227878.0</td>\n",
       "      <td>16x7.0</td>\n",
       "      <td>&lt; $70K</td>\n",
       "      <td>Holden</td>\n",
       "      <td>2000.0</td>\n",
       "    </tr>\n",
       "    <tr>\n",
       "      <th>1</th>\n",
       "      <td>27978.0</td>\n",
       "      <td>1380.0</td>\n",
       "      <td>86.0</td>\n",
       "      <td>153091.0</td>\n",
       "      <td>15x6.0</td>\n",
       "      <td>&lt; $70K</td>\n",
       "      <td>Holden</td>\n",
       "      <td>6800.0</td>\n",
       "    </tr>\n",
       "    <tr>\n",
       "      <th>2</th>\n",
       "      <td>31990.0</td>\n",
       "      <td>1545.0</td>\n",
       "      <td>16.0</td>\n",
       "      <td>27374.0</td>\n",
       "      <td>17x6.5</td>\n",
       "      <td>&lt; $60K</td>\n",
       "      <td>Toyota</td>\n",
       "      <td>22900.0</td>\n",
       "    </tr>\n",
       "    <tr>\n",
       "      <th>3</th>\n",
       "      <td>35990.0</td>\n",
       "      <td>1576.0</td>\n",
       "      <td>48.0</td>\n",
       "      <td>99452.0</td>\n",
       "      <td>15x6.0</td>\n",
       "      <td>&lt; $70K</td>\n",
       "      <td>Holden</td>\n",
       "      <td>10500.0</td>\n",
       "    </tr>\n",
       "    <tr>\n",
       "      <th>4</th>\n",
       "      <td>49490.0</td>\n",
       "      <td>1725.0</td>\n",
       "      <td>28.0</td>\n",
       "      <td>44355.0</td>\n",
       "      <td>16x6.5</td>\n",
       "      <td>&lt; $60K</td>\n",
       "      <td>Toyota</td>\n",
       "      <td>31320.0</td>\n",
       "    </tr>\n",
       "    <tr>\n",
       "      <th>5</th>\n",
       "      <td>32490.0</td>\n",
       "      <td>1485.0</td>\n",
       "      <td>50.0</td>\n",
       "      <td>93021.0</td>\n",
       "      <td>15x6.0</td>\n",
       "      <td>&lt; $70K</td>\n",
       "      <td>Toyota</td>\n",
       "      <td>8600.0</td>\n",
       "    </tr>\n",
       "    <tr>\n",
       "      <th>6</th>\n",
       "      <td>32340.0</td>\n",
       "      <td>1637.0</td>\n",
       "      <td>112.0</td>\n",
       "      <td>245876.0</td>\n",
       "      <td>15x6.0</td>\n",
       "      <td>&lt; $70K</td>\n",
       "      <td>Holden</td>\n",
       "      <td>5600.0</td>\n",
       "    </tr>\n",
       "    <tr>\n",
       "      <th>7</th>\n",
       "      <td>35555.0</td>\n",
       "      <td>1648.0</td>\n",
       "      <td>41.0</td>\n",
       "      <td>60255.0</td>\n",
       "      <td>16x6.5</td>\n",
       "      <td>&lt; $70K</td>\n",
       "      <td>Ford</td>\n",
       "      <td>11825.0</td>\n",
       "    </tr>\n",
       "    <tr>\n",
       "      <th>8</th>\n",
       "      <td>42760.0</td>\n",
       "      <td>1330.0</td>\n",
       "      <td>100.0</td>\n",
       "      <td>144758.0</td>\n",
       "      <td>15x6.5</td>\n",
       "      <td>NaN</td>\n",
       "      <td>Mazda</td>\n",
       "      <td>7200.0</td>\n",
       "    </tr>\n",
       "    <tr>\n",
       "      <th>9</th>\n",
       "      <td>34520.0</td>\n",
       "      <td>1356.0</td>\n",
       "      <td>88.0</td>\n",
       "      <td>132669.0</td>\n",
       "      <td>15x6.0</td>\n",
       "      <td>&lt; $70K</td>\n",
       "      <td>Holden</td>\n",
       "      <td>8500.0</td>\n",
       "    </tr>\n",
       "  </tbody>\n",
       "</table>\n",
       "</div>"
      ],
      "text/plain": [
       "   NewPrice  KerbWeight  Age_Comp_Months        KM RearRimDesc VFactsPrice  \\\n",
       "0   34790.0      1690.0             93.0  227878.0      16x7.0      < $70K   \n",
       "1   27978.0      1380.0             86.0  153091.0      15x6.0      < $70K   \n",
       "2   31990.0      1545.0             16.0   27374.0      17x6.5      < $60K   \n",
       "3   35990.0      1576.0             48.0   99452.0      15x6.0      < $70K   \n",
       "4   49490.0      1725.0             28.0   44355.0      16x6.5      < $60K   \n",
       "5   32490.0      1485.0             50.0   93021.0      15x6.0      < $70K   \n",
       "6   32340.0      1637.0            112.0  245876.0      15x6.0      < $70K   \n",
       "7   35555.0      1648.0             41.0   60255.0      16x6.5      < $70K   \n",
       "8   42760.0      1330.0            100.0  144758.0      15x6.5         NaN   \n",
       "9   34520.0      1356.0             88.0  132669.0      15x6.0      < $70K   \n",
       "\n",
       "     Make  Sold_Amount  \n",
       "0  Holden       2000.0  \n",
       "1  Holden       6800.0  \n",
       "2  Toyota      22900.0  \n",
       "3  Holden      10500.0  \n",
       "4  Toyota      31320.0  \n",
       "5  Toyota       8600.0  \n",
       "6  Holden       5600.0  \n",
       "7    Ford      11825.0  \n",
       "8   Mazda       7200.0  \n",
       "9  Holden       8500.0  "
      ]
     },
     "execution_count": 8,
     "metadata": {},
     "output_type": "execute_result"
    }
   ],
   "source": [
    "df2.head(10)"
   ]
  },
  {
   "cell_type": "code",
   "execution_count": 9,
   "id": "09730c07",
   "metadata": {},
   "outputs": [
    {
     "data": {
      "text/html": [
       "<div>\n",
       "<style scoped>\n",
       "    .dataframe tbody tr th:only-of-type {\n",
       "        vertical-align: middle;\n",
       "    }\n",
       "\n",
       "    .dataframe tbody tr th {\n",
       "        vertical-align: top;\n",
       "    }\n",
       "\n",
       "    .dataframe thead th {\n",
       "        text-align: right;\n",
       "    }\n",
       "</style>\n",
       "<table border=\"1\" class=\"dataframe\">\n",
       "  <thead>\n",
       "    <tr style=\"text-align: right;\">\n",
       "      <th></th>\n",
       "      <th>count</th>\n",
       "      <th>mean</th>\n",
       "      <th>std</th>\n",
       "      <th>min</th>\n",
       "      <th>1%</th>\n",
       "      <th>5%</th>\n",
       "      <th>10%</th>\n",
       "      <th>20%</th>\n",
       "      <th>25%</th>\n",
       "      <th>50%</th>\n",
       "      <th>75%</th>\n",
       "      <th>80%</th>\n",
       "      <th>90%</th>\n",
       "      <th>95%</th>\n",
       "      <th>99%</th>\n",
       "      <th>max</th>\n",
       "    </tr>\n",
       "  </thead>\n",
       "  <tbody>\n",
       "    <tr>\n",
       "      <th>NewPrice</th>\n",
       "      <td>50703.0</td>\n",
       "      <td>36726.014555</td>\n",
       "      <td>15522.567237</td>\n",
       "      <td>5157.0</td>\n",
       "      <td>15600.38</td>\n",
       "      <td>19990.0</td>\n",
       "      <td>22990.0</td>\n",
       "      <td>27405.2</td>\n",
       "      <td>29500.0</td>\n",
       "      <td>34990.0</td>\n",
       "      <td>41260.0</td>\n",
       "      <td>43040.0</td>\n",
       "      <td>50140.0</td>\n",
       "      <td>56990.0</td>\n",
       "      <td>86999.80</td>\n",
       "      <td>525000.0</td>\n",
       "    </tr>\n",
       "    <tr>\n",
       "      <th>KerbWeight</th>\n",
       "      <td>49170.0</td>\n",
       "      <td>1583.991499</td>\n",
       "      <td>282.673958</td>\n",
       "      <td>640.0</td>\n",
       "      <td>961.00</td>\n",
       "      <td>1085.0</td>\n",
       "      <td>1250.0</td>\n",
       "      <td>1380.0</td>\n",
       "      <td>1440.0</td>\n",
       "      <td>1574.0</td>\n",
       "      <td>1713.0</td>\n",
       "      <td>1757.0</td>\n",
       "      <td>1940.0</td>\n",
       "      <td>2090.0</td>\n",
       "      <td>2370.00</td>\n",
       "      <td>3222.0</td>\n",
       "    </tr>\n",
       "    <tr>\n",
       "      <th>Age_Comp_Months</th>\n",
       "      <td>50659.0</td>\n",
       "      <td>45.775223</td>\n",
       "      <td>32.153830</td>\n",
       "      <td>0.0</td>\n",
       "      <td>8.00</td>\n",
       "      <td>13.0</td>\n",
       "      <td>16.0</td>\n",
       "      <td>24.0</td>\n",
       "      <td>26.0</td>\n",
       "      <td>38.0</td>\n",
       "      <td>54.0</td>\n",
       "      <td>61.0</td>\n",
       "      <td>85.0</td>\n",
       "      <td>110.0</td>\n",
       "      <td>163.00</td>\n",
       "      <td>1279.0</td>\n",
       "    </tr>\n",
       "    <tr>\n",
       "      <th>KM</th>\n",
       "      <td>50702.0</td>\n",
       "      <td>84954.058479</td>\n",
       "      <td>72837.320753</td>\n",
       "      <td>0.0</td>\n",
       "      <td>5087.10</td>\n",
       "      <td>14887.2</td>\n",
       "      <td>22558.4</td>\n",
       "      <td>36386.0</td>\n",
       "      <td>40854.0</td>\n",
       "      <td>68469.0</td>\n",
       "      <td>116540.0</td>\n",
       "      <td>129390.8</td>\n",
       "      <td>166143.5</td>\n",
       "      <td>200218.7</td>\n",
       "      <td>279671.95</td>\n",
       "      <td>8883234.0</td>\n",
       "    </tr>\n",
       "    <tr>\n",
       "      <th>Sold_Amount</th>\n",
       "      <td>50700.0</td>\n",
       "      <td>16401.722226</td>\n",
       "      <td>10312.029249</td>\n",
       "      <td>0.0</td>\n",
       "      <td>0.00</td>\n",
       "      <td>3400.0</td>\n",
       "      <td>6100.0</td>\n",
       "      <td>9400.0</td>\n",
       "      <td>10500.0</td>\n",
       "      <td>15000.0</td>\n",
       "      <td>20425.0</td>\n",
       "      <td>22100.0</td>\n",
       "      <td>27000.0</td>\n",
       "      <td>32800.0</td>\n",
       "      <td>50750.00</td>\n",
       "      <td>317000.0</td>\n",
       "    </tr>\n",
       "  </tbody>\n",
       "</table>\n",
       "</div>"
      ],
      "text/plain": [
       "                   count          mean           std     min        1%  \\\n",
       "NewPrice         50703.0  36726.014555  15522.567237  5157.0  15600.38   \n",
       "KerbWeight       49170.0   1583.991499    282.673958   640.0    961.00   \n",
       "Age_Comp_Months  50659.0     45.775223     32.153830     0.0      8.00   \n",
       "KM               50702.0  84954.058479  72837.320753     0.0   5087.10   \n",
       "Sold_Amount      50700.0  16401.722226  10312.029249     0.0      0.00   \n",
       "\n",
       "                      5%      10%      20%      25%      50%       75%  \\\n",
       "NewPrice         19990.0  22990.0  27405.2  29500.0  34990.0   41260.0   \n",
       "KerbWeight        1085.0   1250.0   1380.0   1440.0   1574.0    1713.0   \n",
       "Age_Comp_Months     13.0     16.0     24.0     26.0     38.0      54.0   \n",
       "KM               14887.2  22558.4  36386.0  40854.0  68469.0  116540.0   \n",
       "Sold_Amount       3400.0   6100.0   9400.0  10500.0  15000.0   20425.0   \n",
       "\n",
       "                      80%       90%       95%        99%        max  \n",
       "NewPrice          43040.0   50140.0   56990.0   86999.80   525000.0  \n",
       "KerbWeight         1757.0    1940.0    2090.0    2370.00     3222.0  \n",
       "Age_Comp_Months      61.0      85.0     110.0     163.00     1279.0  \n",
       "KM               129390.8  166143.5  200218.7  279671.95  8883234.0  \n",
       "Sold_Amount       22100.0   27000.0   32800.0   50750.00   317000.0  "
      ]
     },
     "execution_count": 9,
     "metadata": {},
     "output_type": "execute_result"
    }
   ],
   "source": [
    "df2.describe(percentiles=[.01,.05,.1,.2,.25, .5, .75, 0.8,0.9,0.95,0.99]).T"
   ]
  },
  {
   "cell_type": "markdown",
   "id": "1accb145",
   "metadata": {},
   "source": [
    "* Counts of each features does not match with shape of the dataset means that there are null values"
   ]
  },
  {
   "cell_type": "markdown",
   "id": "82e61396",
   "metadata": {},
   "source": [
    "### Target Variable(y)"
   ]
  },
  {
   "cell_type": "code",
   "execution_count": 10,
   "id": "60990ec9",
   "metadata": {},
   "outputs": [
    {
     "data": {
      "text/plain": [
       "Text(0.5, 1.0, 'Sold Amount')"
      ]
     },
     "execution_count": 10,
     "metadata": {},
     "output_type": "execute_result"
    },
    {
     "data": {
      "image/png": "[encoded data removed]",
      "text/plain": [
       "<Figure size 576x360 with 1 Axes>"
      ]
     },
     "metadata": {
      "needs_background": "light"
     },
     "output_type": "display_data"
    }
   ],
   "source": [
    "fig = plt.figure(figsize=(8,5))\n",
    "sns.boxplot('Sold_Amount',data=df2).set_title('Sold Amount')"
   ]
  },
  {
   "cell_type": "markdown",
   "id": "2b57d251",
   "metadata": {},
   "source": [
    "* Assumed that vehicle sold amounts are  geater than 1"
   ]
  },
  {
   "cell_type": "code",
   "execution_count": 11,
   "id": "ca2aa769",
   "metadata": {},
   "outputs": [],
   "source": [
    "df3=df2[df2['Sold_Amount']>1]\n",
    "df3 = df3[df3['Sold_Amount'].notna()]"
   ]
  },
  {
   "cell_type": "code",
   "execution_count": 12,
   "id": "5910f81d",
   "metadata": {},
   "outputs": [
    {
     "data": {
      "text/plain": [
       "Text(0.5, 1.0, 'Sold Amount')"
      ]
     },
     "execution_count": 12,
     "metadata": {},
     "output_type": "execute_result"
    },
    {
     "data": {
      "image/png": "[encoded data removed]",
      "text/plain": [
       "<Figure size 576x360 with 1 Axes>"
      ]
     },
     "metadata": {
      "needs_background": "light"
     },
     "output_type": "display_data"
    }
   ],
   "source": [
    "fig = plt.figure(figsize=(8,5))\n",
    "sns.boxplot('Sold_Amount',data=df3).set_title('Sold Amount')"
   ]
  },
  {
   "cell_type": "markdown",
   "id": "5703faad",
   "metadata": {},
   "source": [
    "### Predictor Variables(x)"
   ]
  },
  {
   "cell_type": "markdown",
   "id": "9a7ba8be",
   "metadata": {},
   "source": [
    "### a) NewPrice"
   ]
  },
  {
   "cell_type": "markdown",
   "id": "e3057447",
   "metadata": {},
   "source": [
    "* Replace mising values by median(since the distibution is skewed), if any"
   ]
  },
  {
   "cell_type": "code",
   "execution_count": 13,
   "id": "3725e7c1",
   "metadata": {},
   "outputs": [],
   "source": [
    "df3['NewPrice'].fillna(df3['KM'].median(), inplace=True)"
   ]
  },
  {
   "cell_type": "code",
   "execution_count": 14,
   "id": "16e41418",
   "metadata": {},
   "outputs": [
    {
     "data": {
      "text/plain": [
       "<function matplotlib.pyplot.show(close=None, block=None)>"
      ]
     },
     "execution_count": 14,
     "metadata": {},
     "output_type": "execute_result"
    },
    {
     "data": {
      "image/png": "[encoded data removed]",
      "text/plain": [
       "<Figure size 576x576 with 1 Axes>"
      ]
     },
     "metadata": {
      "needs_background": "light"
     },
     "output_type": "display_data"
    }
   ],
   "source": [
    "df3['NewPrice'].hist(figsize = (8,8),bins =30)\n",
    "plt.show"
   ]
  },
  {
   "cell_type": "markdown",
   "id": "26b8f956",
   "metadata": {},
   "source": [
    "* I keep this feature as it is."
   ]
  },
  {
   "cell_type": "markdown",
   "id": "befccdcd",
   "metadata": {},
   "source": [
    "### b) KM"
   ]
  },
  {
   "cell_type": "code",
   "execution_count": 15,
   "id": "0acb5024",
   "metadata": {},
   "outputs": [
    {
     "data": {
      "text/plain": [
       "<function matplotlib.pyplot.show(close=None, block=None)>"
      ]
     },
     "execution_count": 15,
     "metadata": {},
     "output_type": "execute_result"
    },
    {
     "data": {
      "image/png": "[encoded data removed]",
      "text/plain": [
       "<Figure size 576x576 with 1 Axes>"
      ]
     },
     "metadata": {
      "needs_background": "light"
     },
     "output_type": "display_data"
    }
   ],
   "source": [
    "df3['KM'].hist(figsize = (8,8),bins =50)\n",
    "plt.show"
   ]
  },
  {
   "cell_type": "markdown",
   "id": "d7f99049",
   "metadata": {},
   "source": [
    "* Replace missing value of KM by it's median(since the distibution is skewed)"
   ]
  },
  {
   "cell_type": "code",
   "execution_count": 16,
   "id": "729251d5",
   "metadata": {},
   "outputs": [],
   "source": [
    "df3['KM'].fillna(df3['KM'].median(), inplace=True)"
   ]
  },
  {
   "cell_type": "markdown",
   "id": "0796dac2",
   "metadata": {},
   "source": [
    "* Grouping the KM variable "
   ]
  },
  {
   "cell_type": "code",
   "execution_count": 17,
   "id": "55fdfa78",
   "metadata": {},
   "outputs": [],
   "source": [
    "df3[\"KM_group\"] = pd.cut(df3['KM'],bins=[-1, 20000, 50000, 100000, 150000, 200000, 10000000],\n",
    "                                    labels=['20K', '50K', '100K', '150K', '200K', '+200K'])"
   ]
  },
  {
   "cell_type": "code",
   "execution_count": 18,
   "id": "13b200ea",
   "metadata": {
    "scrolled": true
   },
   "outputs": [
    {
     "data": {
      "text/plain": [
       "100K     16527\n",
       "50K      13209\n",
       "150K      9206\n",
       "200K      4332\n",
       "20K       4164\n",
       "+200K     2527\n",
       "Name: KM_group, dtype: int64"
      ]
     },
     "execution_count": 18,
     "metadata": {},
     "output_type": "execute_result"
    }
   ],
   "source": [
    "df3[\"KM_group\"].value_counts(dropna=False)"
   ]
  },
  {
   "cell_type": "code",
   "execution_count": 19,
   "id": "8b777ed8",
   "metadata": {},
   "outputs": [
    {
     "data": {
      "text/plain": [
       "<AxesSubplot:xlabel='KM_group', ylabel='count'>"
      ]
     },
     "execution_count": 19,
     "metadata": {},
     "output_type": "execute_result"
    },
    {
     "data": {
      "image/png": "[encoded data removed]",
      "text/plain": [
       "<Figure size 1080x576 with 1 Axes>"
      ]
     },
     "metadata": {
      "needs_background": "light"
     },
     "output_type": "display_data"
    }
   ],
   "source": [
    "plt.figure(figsize=(15,8))\n",
    "sns.set_style('whitegrid')\n",
    "sns.countplot(x='KM_group', data=df3)"
   ]
  },
  {
   "cell_type": "markdown",
   "id": "8f825b5a",
   "metadata": {},
   "source": [
    "### c) KerbWeight"
   ]
  },
  {
   "cell_type": "code",
   "execution_count": 20,
   "id": "dba90885",
   "metadata": {},
   "outputs": [
    {
     "data": {
      "text/plain": [
       "Text(0.5, 1.0, 'KerbWeight')"
      ]
     },
     "execution_count": 20,
     "metadata": {},
     "output_type": "execute_result"
    },
    {
     "data": {
      "image/png": "[encoded data removed]",
      "text/plain": [
       "<Figure size 576x360 with 1 Axes>"
      ]
     },
     "metadata": {},
     "output_type": "display_data"
    }
   ],
   "source": [
    "fig = plt.figure(figsize=(8,5))\n",
    "sns.boxplot('KerbWeight',data=df3).set_title('KerbWeight')"
   ]
  },
  {
   "cell_type": "markdown",
   "id": "94d98d62",
   "metadata": {},
   "source": [
    "* Replace missing value by mean"
   ]
  },
  {
   "cell_type": "code",
   "execution_count": 21,
   "id": "8d43121c",
   "metadata": {},
   "outputs": [],
   "source": [
    "df3['KerbWeight'].fillna(df3['KerbWeight'].mean(), inplace=True)"
   ]
  },
  {
   "cell_type": "markdown",
   "id": "94195b20",
   "metadata": {},
   "source": [
    "### d) Age_Comp_Months"
   ]
  },
  {
   "cell_type": "code",
   "execution_count": 22,
   "id": "a80b98cc",
   "metadata": {
    "scrolled": false
   },
   "outputs": [
    {
     "data": {
      "text/plain": [
       "Text(0.5, 1.0, 'Age_Comp_Months')"
      ]
     },
     "execution_count": 22,
     "metadata": {},
     "output_type": "execute_result"
    },
    {
     "data": {
      "image/png": "[encoded data removed]",
      "text/plain": [
       "<Figure size 576x360 with 1 Axes>"
      ]
     },
     "metadata": {},
     "output_type": "display_data"
    }
   ],
   "source": [
    "fig = plt.figure(figsize=(8,5))\n",
    "sns.boxplot('Age_Comp_Months',data=df3).set_title('Age_Comp_Months')"
   ]
  },
  {
   "cell_type": "markdown",
   "id": "813284ae",
   "metadata": {},
   "source": [
    "* Replace missing value by median value"
   ]
  },
  {
   "cell_type": "code",
   "execution_count": 23,
   "id": "e770f30b",
   "metadata": {},
   "outputs": [],
   "source": [
    "df3['Age_Comp_Months'].fillna(df3['Age_Comp_Months'].median(), inplace=True)"
   ]
  },
  {
   "cell_type": "markdown",
   "id": "7e1bad5f",
   "metadata": {},
   "source": [
    "* Capping Age_Comp_Months at 100 ,90% of values in between 0 and 85"
   ]
  },
  {
   "cell_type": "code",
   "execution_count": 24,
   "id": "41aea1df",
   "metadata": {},
   "outputs": [],
   "source": [
    "def capping_Age_Comp_Months(x):\n",
    "    value = 0\n",
    "\n",
    "    if x <=100:\n",
    "        value = x\n",
    "    else:\n",
    "        value = 100\n",
    "    return value"
   ]
  },
  {
   "cell_type": "code",
   "execution_count": 25,
   "id": "47f99dce",
   "metadata": {},
   "outputs": [],
   "source": [
    "df3['Age_Comp_Months_cap'] = df3['Age_Comp_Months'].apply(lambda x: capping_Age_Comp_Months(x))"
   ]
  },
  {
   "cell_type": "code",
   "execution_count": 26,
   "id": "2f42f6d7",
   "metadata": {},
   "outputs": [
    {
     "data": {
      "text/plain": [
       "Text(0.5, 1.0, 'Age_Comp_Months_cap')"
      ]
     },
     "execution_count": 26,
     "metadata": {},
     "output_type": "execute_result"
    },
    {
     "data": {
      "image/png": "[encoded data removed]",
      "text/plain": [
       "<Figure size 576x360 with 1 Axes>"
      ]
     },
     "metadata": {},
     "output_type": "display_data"
    }
   ],
   "source": [
    "fig = plt.figure(figsize=(8,5))\n",
    "sns.boxplot('Age_Comp_Months_cap',data=df3).set_title('Age_Comp_Months_cap')"
   ]
  },
  {
   "cell_type": "markdown",
   "id": "1b1197e8",
   "metadata": {},
   "source": [
    "### e) Make"
   ]
  },
  {
   "cell_type": "markdown",
   "id": "f0c0937f",
   "metadata": {},
   "source": [
    "#### Average sold amount by Make categories"
   ]
  },
  {
   "cell_type": "code",
   "execution_count": 27,
   "id": "21a8813a",
   "metadata": {
    "scrolled": false
   },
   "outputs": [
    {
     "data": {
      "text/html": [
       "<div>\n",
       "<style scoped>\n",
       "    .dataframe tbody tr th:only-of-type {\n",
       "        vertical-align: middle;\n",
       "    }\n",
       "\n",
       "    .dataframe tbody tr th {\n",
       "        vertical-align: top;\n",
       "    }\n",
       "\n",
       "    .dataframe thead th {\n",
       "        text-align: right;\n",
       "    }\n",
       "</style>\n",
       "<table border=\"1\" class=\"dataframe\">\n",
       "  <thead>\n",
       "    <tr style=\"text-align: right;\">\n",
       "      <th></th>\n",
       "      <th>Make</th>\n",
       "      <th>count</th>\n",
       "      <th>mean</th>\n",
       "    </tr>\n",
       "  </thead>\n",
       "  <tbody>\n",
       "    <tr>\n",
       "      <th>0</th>\n",
       "      <td>Ferrari</td>\n",
       "      <td>1</td>\n",
       "      <td>317000.000000</td>\n",
       "    </tr>\n",
       "    <tr>\n",
       "      <th>1</th>\n",
       "      <td>Bentley</td>\n",
       "      <td>1</td>\n",
       "      <td>308000.000000</td>\n",
       "    </tr>\n",
       "    <tr>\n",
       "      <th>2</th>\n",
       "      <td>Aston Martin</td>\n",
       "      <td>3</td>\n",
       "      <td>202333.333333</td>\n",
       "    </tr>\n",
       "    <tr>\n",
       "      <th>3</th>\n",
       "      <td>Lamborghini</td>\n",
       "      <td>3</td>\n",
       "      <td>150666.666667</td>\n",
       "    </tr>\n",
       "    <tr>\n",
       "      <th>4</th>\n",
       "      <td>Lotus</td>\n",
       "      <td>2</td>\n",
       "      <td>79750.000000</td>\n",
       "    </tr>\n",
       "    <tr>\n",
       "      <th>5</th>\n",
       "      <td>Maserati</td>\n",
       "      <td>4</td>\n",
       "      <td>69062.500000</td>\n",
       "    </tr>\n",
       "    <tr>\n",
       "      <th>6</th>\n",
       "      <td>Porsche</td>\n",
       "      <td>34</td>\n",
       "      <td>67526.470588</td>\n",
       "    </tr>\n",
       "    <tr>\n",
       "      <th>7</th>\n",
       "      <td>Lexus</td>\n",
       "      <td>266</td>\n",
       "      <td>46123.588534</td>\n",
       "    </tr>\n",
       "    <tr>\n",
       "      <th>8</th>\n",
       "      <td>Hummer</td>\n",
       "      <td>8</td>\n",
       "      <td>37262.500000</td>\n",
       "    </tr>\n",
       "    <tr>\n",
       "      <th>9</th>\n",
       "      <td>Mercedes-Benz</td>\n",
       "      <td>454</td>\n",
       "      <td>31610.414097</td>\n",
       "    </tr>\n",
       "    <tr>\n",
       "      <th>10</th>\n",
       "      <td>Audi</td>\n",
       "      <td>169</td>\n",
       "      <td>27182.508876</td>\n",
       "    </tr>\n",
       "    <tr>\n",
       "      <th>11</th>\n",
       "      <td>Land Rover</td>\n",
       "      <td>134</td>\n",
       "      <td>27026.560373</td>\n",
       "    </tr>\n",
       "    <tr>\n",
       "      <th>12</th>\n",
       "      <td>Volvo</td>\n",
       "      <td>80</td>\n",
       "      <td>22129.750000</td>\n",
       "    </tr>\n",
       "    <tr>\n",
       "      <th>13</th>\n",
       "      <td>Jaguar</td>\n",
       "      <td>16</td>\n",
       "      <td>22069.812500</td>\n",
       "    </tr>\n",
       "    <tr>\n",
       "      <th>14</th>\n",
       "      <td>Fiat</td>\n",
       "      <td>12</td>\n",
       "      <td>20228.750000</td>\n",
       "    </tr>\n",
       "    <tr>\n",
       "      <th>15</th>\n",
       "      <td>Opel</td>\n",
       "      <td>1</td>\n",
       "      <td>19900.000000</td>\n",
       "    </tr>\n",
       "    <tr>\n",
       "      <th>16</th>\n",
       "      <td>Isuzu</td>\n",
       "      <td>48</td>\n",
       "      <td>19898.395833</td>\n",
       "    </tr>\n",
       "    <tr>\n",
       "      <th>17</th>\n",
       "      <td>MINI</td>\n",
       "      <td>38</td>\n",
       "      <td>19509.473684</td>\n",
       "    </tr>\n",
       "    <tr>\n",
       "      <th>18</th>\n",
       "      <td>Subaru</td>\n",
       "      <td>1194</td>\n",
       "      <td>19132.877722</td>\n",
       "    </tr>\n",
       "    <tr>\n",
       "      <th>19</th>\n",
       "      <td>Toyota</td>\n",
       "      <td>15512</td>\n",
       "      <td>19062.172739</td>\n",
       "    </tr>\n",
       "    <tr>\n",
       "      <th>20</th>\n",
       "      <td>SKODA</td>\n",
       "      <td>9</td>\n",
       "      <td>18515.555556</td>\n",
       "    </tr>\n",
       "    <tr>\n",
       "      <th>21</th>\n",
       "      <td>Nissan</td>\n",
       "      <td>2004</td>\n",
       "      <td>18193.686652</td>\n",
       "    </tr>\n",
       "    <tr>\n",
       "      <th>22</th>\n",
       "      <td>Volkswagen</td>\n",
       "      <td>645</td>\n",
       "      <td>17222.294574</td>\n",
       "    </tr>\n",
       "    <tr>\n",
       "      <th>23</th>\n",
       "      <td>Renault</td>\n",
       "      <td>117</td>\n",
       "      <td>17206.440171</td>\n",
       "    </tr>\n",
       "    <tr>\n",
       "      <th>24</th>\n",
       "      <td>Dodge</td>\n",
       "      <td>29</td>\n",
       "      <td>17201.034483</td>\n",
       "    </tr>\n",
       "    <tr>\n",
       "      <th>25</th>\n",
       "      <td>Chrysler</td>\n",
       "      <td>74</td>\n",
       "      <td>17190.810811</td>\n",
       "    </tr>\n",
       "    <tr>\n",
       "      <th>26</th>\n",
       "      <td>Daimler</td>\n",
       "      <td>1</td>\n",
       "      <td>17000.000000</td>\n",
       "    </tr>\n",
       "    <tr>\n",
       "      <th>27</th>\n",
       "      <td>Jeep</td>\n",
       "      <td>181</td>\n",
       "      <td>16948.392210</td>\n",
       "    </tr>\n",
       "    <tr>\n",
       "      <th>28</th>\n",
       "      <td>Honda</td>\n",
       "      <td>601</td>\n",
       "      <td>16062.303228</td>\n",
       "    </tr>\n",
       "    <tr>\n",
       "      <th>29</th>\n",
       "      <td>Holden</td>\n",
       "      <td>11809</td>\n",
       "      <td>15200.359162</td>\n",
       "    </tr>\n",
       "    <tr>\n",
       "      <th>30</th>\n",
       "      <td>Rover</td>\n",
       "      <td>7</td>\n",
       "      <td>14735.714286</td>\n",
       "    </tr>\n",
       "    <tr>\n",
       "      <th>31</th>\n",
       "      <td>Ford</td>\n",
       "      <td>10076</td>\n",
       "      <td>14048.511172</td>\n",
       "    </tr>\n",
       "    <tr>\n",
       "      <th>32</th>\n",
       "      <td>Peugeot</td>\n",
       "      <td>107</td>\n",
       "      <td>13876.962617</td>\n",
       "    </tr>\n",
       "    <tr>\n",
       "      <th>33</th>\n",
       "      <td>Mazda</td>\n",
       "      <td>940</td>\n",
       "      <td>13875.768809</td>\n",
       "    </tr>\n",
       "    <tr>\n",
       "      <th>34</th>\n",
       "      <td>Saab</td>\n",
       "      <td>61</td>\n",
       "      <td>13872.739180</td>\n",
       "    </tr>\n",
       "    <tr>\n",
       "      <th>35</th>\n",
       "      <td>Mitsubishi</td>\n",
       "      <td>3265</td>\n",
       "      <td>13854.598885</td>\n",
       "    </tr>\n",
       "    <tr>\n",
       "      <th>36</th>\n",
       "      <td>Hyundai</td>\n",
       "      <td>1428</td>\n",
       "      <td>12857.577997</td>\n",
       "    </tr>\n",
       "    <tr>\n",
       "      <th>37</th>\n",
       "      <td>Eunos</td>\n",
       "      <td>7</td>\n",
       "      <td>12857.142857</td>\n",
       "    </tr>\n",
       "    <tr>\n",
       "      <th>38</th>\n",
       "      <td>Alfa Romeo</td>\n",
       "      <td>40</td>\n",
       "      <td>11993.750000</td>\n",
       "    </tr>\n",
       "    <tr>\n",
       "      <th>39</th>\n",
       "      <td>SsangYong</td>\n",
       "      <td>30</td>\n",
       "      <td>10720.000000</td>\n",
       "    </tr>\n",
       "    <tr>\n",
       "      <th>40</th>\n",
       "      <td>Suzuki</td>\n",
       "      <td>196</td>\n",
       "      <td>9382.109694</td>\n",
       "    </tr>\n",
       "    <tr>\n",
       "      <th>41</th>\n",
       "      <td>smart</td>\n",
       "      <td>8</td>\n",
       "      <td>9375.000000</td>\n",
       "    </tr>\n",
       "    <tr>\n",
       "      <th>42</th>\n",
       "      <td>Citroen</td>\n",
       "      <td>50</td>\n",
       "      <td>9089.400000</td>\n",
       "    </tr>\n",
       "    <tr>\n",
       "      <th>43</th>\n",
       "      <td>De Tomaso</td>\n",
       "      <td>1</td>\n",
       "      <td>9000.000000</td>\n",
       "    </tr>\n",
       "    <tr>\n",
       "      <th>44</th>\n",
       "      <td>Seat</td>\n",
       "      <td>4</td>\n",
       "      <td>7350.000000</td>\n",
       "    </tr>\n",
       "    <tr>\n",
       "      <th>45</th>\n",
       "      <td>Great Wall</td>\n",
       "      <td>53</td>\n",
       "      <td>7238.679245</td>\n",
       "    </tr>\n",
       "    <tr>\n",
       "      <th>46</th>\n",
       "      <td>Pontiac</td>\n",
       "      <td>1</td>\n",
       "      <td>6000.000000</td>\n",
       "    </tr>\n",
       "    <tr>\n",
       "      <th>47</th>\n",
       "      <td>Daihatsu</td>\n",
       "      <td>65</td>\n",
       "      <td>5708.461538</td>\n",
       "    </tr>\n",
       "    <tr>\n",
       "      <th>48</th>\n",
       "      <td>Daewoo</td>\n",
       "      <td>133</td>\n",
       "      <td>5565.007519</td>\n",
       "    </tr>\n",
       "    <tr>\n",
       "      <th>49</th>\n",
       "      <td>Proton</td>\n",
       "      <td>38</td>\n",
       "      <td>5117.105263</td>\n",
       "    </tr>\n",
       "    <tr>\n",
       "      <th>50</th>\n",
       "      <td>Chery</td>\n",
       "      <td>1</td>\n",
       "      <td>4500.000000</td>\n",
       "    </tr>\n",
       "    <tr>\n",
       "      <th>51</th>\n",
       "      <td>Tata</td>\n",
       "      <td>4</td>\n",
       "      <td>4000.000000</td>\n",
       "    </tr>\n",
       "  </tbody>\n",
       "</table>\n",
       "</div>"
      ],
      "text/plain": [
       "             Make  count           mean\n",
       "0         Ferrari      1  317000.000000\n",
       "1         Bentley      1  308000.000000\n",
       "2    Aston Martin      3  202333.333333\n",
       "3     Lamborghini      3  150666.666667\n",
       "4           Lotus      2   79750.000000\n",
       "5        Maserati      4   69062.500000\n",
       "6         Porsche     34   67526.470588\n",
       "7           Lexus    266   46123.588534\n",
       "8          Hummer      8   37262.500000\n",
       "9   Mercedes-Benz    454   31610.414097\n",
       "10           Audi    169   27182.508876\n",
       "11     Land Rover    134   27026.560373\n",
       "12          Volvo     80   22129.750000\n",
       "13         Jaguar     16   22069.812500\n",
       "14           Fiat     12   20228.750000\n",
       "15           Opel      1   19900.000000\n",
       "16          Isuzu     48   19898.395833\n",
       "17           MINI     38   19509.473684\n",
       "18         Subaru   1194   19132.877722\n",
       "19         Toyota  15512   19062.172739\n",
       "20          SKODA      9   18515.555556\n",
       "21         Nissan   2004   18193.686652\n",
       "22     Volkswagen    645   17222.294574\n",
       "23        Renault    117   17206.440171\n",
       "24          Dodge     29   17201.034483\n",
       "25       Chrysler     74   17190.810811\n",
       "26        Daimler      1   17000.000000\n",
       "27           Jeep    181   16948.392210\n",
       "28          Honda    601   16062.303228\n",
       "29         Holden  11809   15200.359162\n",
       "30          Rover      7   14735.714286\n",
       "31           Ford  10076   14048.511172\n",
       "32        Peugeot    107   13876.962617\n",
       "33          Mazda    940   13875.768809\n",
       "34           Saab     61   13872.739180\n",
       "35     Mitsubishi   3265   13854.598885\n",
       "36        Hyundai   1428   12857.577997\n",
       "37          Eunos      7   12857.142857\n",
       "38     Alfa Romeo     40   11993.750000\n",
       "39      SsangYong     30   10720.000000\n",
       "40         Suzuki    196    9382.109694\n",
       "41          smart      8    9375.000000\n",
       "42        Citroen     50    9089.400000\n",
       "43      De Tomaso      1    9000.000000\n",
       "44           Seat      4    7350.000000\n",
       "45     Great Wall     53    7238.679245\n",
       "46        Pontiac      1    6000.000000\n",
       "47       Daihatsu     65    5708.461538\n",
       "48         Daewoo    133    5565.007519\n",
       "49         Proton     38    5117.105263\n",
       "50          Chery      1    4500.000000\n",
       "51           Tata      4    4000.000000"
      ]
     },
     "execution_count": 27,
     "metadata": {},
     "output_type": "execute_result"
    }
   ],
   "source": [
    "df3.groupby('Make')['Sold_Amount'].aggregate(['count', 'mean']).sort_values(['mean'], ascending=False).reset_index()"
   ]
  },
  {
   "cell_type": "markdown",
   "id": "bb04d234",
   "metadata": {},
   "source": [
    "* Generate new categories by grouping existing categories based on average sold amount"
   ]
  },
  {
   "cell_type": "code",
   "execution_count": 28,
   "id": "ae57ffe9",
   "metadata": {},
   "outputs": [],
   "source": [
    "def categorize_make(x):\n",
    "    cat = ''\n",
    "    \n",
    "    if x in ['Ferrari','Bentley']:\n",
    "        cat = 'A'\n",
    "    elif x in ['Aston Martin','Lamborghini']:\n",
    "        cat = 'B'\n",
    "    elif x in ['Lotus','Maserati','Porsche']:\n",
    "        cat = 'C'\n",
    "    elif x in ['Lexus','Hummer','Mercedes-Benz']:\n",
    "        cat = 'D'\n",
    "    elif x in ['Audi','Land Rover','Volvo','Jaguar','Fiat']:\n",
    "        cat = 'E'\n",
    "    elif x in ['Opel','Isuzu','MINI','Toyota','Subaru','SKODA','Nissan','Renault','Chrysler','Daimler','Volkswagen','Jeep','Dodge','Honda','Holden','Rover','Peugeot','Saab','Ford','Mazda','Mitsubishi','Eunos','Hyundai','Alfa Romeo','SsangYong']:\n",
    "        cat = 'F'\n",
    "    elif x in ['smart','Suzuki','Citroen','De Tomaso','Seat','Great Wall','Pontiac','Daihatsu','Daewoo','Proton','Chery','Tata']:\n",
    "        cat = 'G'\n",
    "    else:\n",
    "        cat = 'Other'\n",
    "        \n",
    "    return cat"
   ]
  },
  {
   "cell_type": "code",
   "execution_count": 29,
   "id": "4ed62beb",
   "metadata": {},
   "outputs": [],
   "source": [
    "df3['Make'] = df3['Make'].replace(nan, 'Not avialable')\n",
    "df3['Make_cat'] = df3['Make'].apply(lambda x: categorize_make(x))"
   ]
  },
  {
   "cell_type": "code",
   "execution_count": 30,
   "id": "12746618",
   "metadata": {},
   "outputs": [
    {
     "data": {
      "text/plain": [
       "F    48224\n",
       "D      728\n",
       "G      554\n",
       "E      411\n",
       "C       40\n",
       "B        6\n",
       "A        2\n",
       "Name: Make_cat, dtype: int64"
      ]
     },
     "execution_count": 30,
     "metadata": {},
     "output_type": "execute_result"
    }
   ],
   "source": [
    "df3['Make_cat'].value_counts(dropna=False)"
   ]
  },
  {
   "cell_type": "code",
   "execution_count": 31,
   "id": "f073c695",
   "metadata": {},
   "outputs": [
    {
     "data": {
      "text/html": [
       "<div>\n",
       "<style scoped>\n",
       "    .dataframe tbody tr th:only-of-type {\n",
       "        vertical-align: middle;\n",
       "    }\n",
       "\n",
       "    .dataframe tbody tr th {\n",
       "        vertical-align: top;\n",
       "    }\n",
       "\n",
       "    .dataframe thead th {\n",
       "        text-align: right;\n",
       "    }\n",
       "</style>\n",
       "<table border=\"1\" class=\"dataframe\">\n",
       "  <thead>\n",
       "    <tr style=\"text-align: right;\">\n",
       "      <th></th>\n",
       "      <th>Make_cat</th>\n",
       "      <th>count</th>\n",
       "      <th>mean</th>\n",
       "    </tr>\n",
       "  </thead>\n",
       "  <tbody>\n",
       "    <tr>\n",
       "      <th>0</th>\n",
       "      <td>A</td>\n",
       "      <td>2</td>\n",
       "      <td>312500.000000</td>\n",
       "    </tr>\n",
       "    <tr>\n",
       "      <th>1</th>\n",
       "      <td>B</td>\n",
       "      <td>6</td>\n",
       "      <td>176500.000000</td>\n",
       "    </tr>\n",
       "    <tr>\n",
       "      <th>2</th>\n",
       "      <td>C</td>\n",
       "      <td>40</td>\n",
       "      <td>68291.250000</td>\n",
       "    </tr>\n",
       "    <tr>\n",
       "      <th>3</th>\n",
       "      <td>D</td>\n",
       "      <td>728</td>\n",
       "      <td>36975.415591</td>\n",
       "    </tr>\n",
       "    <tr>\n",
       "      <th>4</th>\n",
       "      <td>E</td>\n",
       "      <td>411</td>\n",
       "      <td>25746.095109</td>\n",
       "    </tr>\n",
       "    <tr>\n",
       "      <th>5</th>\n",
       "      <td>F</td>\n",
       "      <td>48224</td>\n",
       "      <td>16289.178806</td>\n",
       "    </tr>\n",
       "    <tr>\n",
       "      <th>6</th>\n",
       "      <td>G</td>\n",
       "      <td>554</td>\n",
       "      <td>7441.443141</td>\n",
       "    </tr>\n",
       "  </tbody>\n",
       "</table>\n",
       "</div>"
      ],
      "text/plain": [
       "  Make_cat  count           mean\n",
       "0        A      2  312500.000000\n",
       "1        B      6  176500.000000\n",
       "2        C     40   68291.250000\n",
       "3        D    728   36975.415591\n",
       "4        E    411   25746.095109\n",
       "5        F  48224   16289.178806\n",
       "6        G    554    7441.443141"
      ]
     },
     "execution_count": 31,
     "metadata": {},
     "output_type": "execute_result"
    }
   ],
   "source": [
    "df3.groupby('Make_cat')['Sold_Amount'].aggregate(['count', 'mean']).sort_values(['mean'], ascending=False).reset_index()"
   ]
  },
  {
   "cell_type": "markdown",
   "id": "5b784117",
   "metadata": {},
   "source": [
    "### f) RearRimDesc"
   ]
  },
  {
   "cell_type": "markdown",
   "id": "315efe5d",
   "metadata": {},
   "source": [
    "#### Average sold amount by RearRimDesc categories"
   ]
  },
  {
   "cell_type": "code",
   "execution_count": 32,
   "id": "ddd110a2",
   "metadata": {},
   "outputs": [
    {
     "data": {
      "text/html": [
       "<div>\n",
       "<style scoped>\n",
       "    .dataframe tbody tr th:only-of-type {\n",
       "        vertical-align: middle;\n",
       "    }\n",
       "\n",
       "    .dataframe tbody tr th {\n",
       "        vertical-align: top;\n",
       "    }\n",
       "\n",
       "    .dataframe thead th {\n",
       "        text-align: right;\n",
       "    }\n",
       "</style>\n",
       "<table border=\"1\" class=\"dataframe\">\n",
       "  <thead>\n",
       "    <tr style=\"text-align: right;\">\n",
       "      <th></th>\n",
       "      <th>RearRimDesc</th>\n",
       "      <th>count</th>\n",
       "      <th>mean</th>\n",
       "    </tr>\n",
       "  </thead>\n",
       "  <tbody>\n",
       "    <tr>\n",
       "      <th>0</th>\n",
       "      <td>18x12.0</td>\n",
       "      <td>2</td>\n",
       "      <td>204500.000000</td>\n",
       "    </tr>\n",
       "    <tr>\n",
       "      <th>1</th>\n",
       "      <td>21x9.5</td>\n",
       "      <td>1</td>\n",
       "      <td>165000.000000</td>\n",
       "    </tr>\n",
       "    <tr>\n",
       "      <th>2</th>\n",
       "      <td>19x9.5</td>\n",
       "      <td>9</td>\n",
       "      <td>139027.777778</td>\n",
       "    </tr>\n",
       "    <tr>\n",
       "      <th>3</th>\n",
       "      <td>19x11.0</td>\n",
       "      <td>5</td>\n",
       "      <td>133200.000000</td>\n",
       "    </tr>\n",
       "    <tr>\n",
       "      <th>4</th>\n",
       "      <td>15x12.0</td>\n",
       "      <td>1</td>\n",
       "      <td>120000.000000</td>\n",
       "    </tr>\n",
       "    <tr>\n",
       "      <th>...</th>\n",
       "      <td>...</td>\n",
       "      <td>...</td>\n",
       "      <td>...</td>\n",
       "    </tr>\n",
       "    <tr>\n",
       "      <th>77</th>\n",
       "      <td>16x6.5F</td>\n",
       "      <td>1</td>\n",
       "      <td>5000.000000</td>\n",
       "    </tr>\n",
       "    <tr>\n",
       "      <th>78</th>\n",
       "      <td>13x4.5</td>\n",
       "      <td>156</td>\n",
       "      <td>4896.307692</td>\n",
       "    </tr>\n",
       "    <tr>\n",
       "      <th>79</th>\n",
       "      <td>13x5.5</td>\n",
       "      <td>15</td>\n",
       "      <td>4495.000000</td>\n",
       "    </tr>\n",
       "    <tr>\n",
       "      <th>80</th>\n",
       "      <td>14x6.5</td>\n",
       "      <td>5</td>\n",
       "      <td>3660.000000</td>\n",
       "    </tr>\n",
       "    <tr>\n",
       "      <th>81</th>\n",
       "      <td>12x4.0</td>\n",
       "      <td>1</td>\n",
       "      <td>2950.000000</td>\n",
       "    </tr>\n",
       "  </tbody>\n",
       "</table>\n",
       "<p>82 rows × 3 columns</p>\n",
       "</div>"
      ],
      "text/plain": [
       "   RearRimDesc  count           mean\n",
       "0      18x12.0      2  204500.000000\n",
       "1       21x9.5      1  165000.000000\n",
       "2       19x9.5      9  139027.777778\n",
       "3      19x11.0      5  133200.000000\n",
       "4      15x12.0      1  120000.000000\n",
       "..         ...    ...            ...\n",
       "77     16x6.5F      1    5000.000000\n",
       "78      13x4.5    156    4896.307692\n",
       "79      13x5.5     15    4495.000000\n",
       "80      14x6.5      5    3660.000000\n",
       "81      12x4.0      1    2950.000000\n",
       "\n",
       "[82 rows x 3 columns]"
      ]
     },
     "execution_count": 32,
     "metadata": {},
     "output_type": "execute_result"
    }
   ],
   "source": [
    "df3.groupby('RearRimDesc')['Sold_Amount'].aggregate(['count', 'mean']).sort_values(['mean'], ascending=False).reset_index()"
   ]
  },
  {
   "cell_type": "markdown",
   "id": "240a80f8",
   "metadata": {},
   "source": [
    "* Generate new categories by grouping existing categories based on average sold amount"
   ]
  },
  {
   "cell_type": "code",
   "execution_count": 33,
   "id": "3866db5a",
   "metadata": {},
   "outputs": [],
   "source": [
    "def categorize_RearRimDesc(x):\n",
    "    cat = ''\n",
    "    \n",
    "    if x in ['18x12.0','21x9.5','19x9.5','19x11.0','15x12.0','19x10']:\n",
    "        cat = 'A'\n",
    "    elif x in ['20x9.5','21x10.0','18x9.5','20x8.5','18x10.5','19x10.0','18x9.0','19x9.0','19x7.5J','20x10.0','21x9.0','20x9.0']:\n",
    "        cat = 'B'\n",
    "    elif x in ['18x8.5','17x8.5','19x8.5','18x11.0','18x10.0','19x10.5','18x8.5J','19x7.5','15x7.5','18x7.5J','17x9.0','20x8.0','16x5.5 (dual)','18x8.25','18x7.5','16x7.5','19x8.25','16x8.5']:\n",
    "        cat = 'C'\n",
    "    elif x in ['19x8.0','17x6.0','16x5.5','20x7.5','19x7.0','16x8.0','16x5.0 (dual)','18x8.0','17x8.0','17x7.5','18x6.5','17x7.0J','18x7.0','17x7.5J','17x7.0','16x5.5F Split','17x6.5','16x6.5J','16x5.0','12x4.0 (dual)','16x6.0','16x7.0','15x7.0','15x6.0J','16x6.5','15x6.0','15x6.5','15x5.0','15x5.5 (dual)','15x5.5','14x5.5','390x180mm TD','17x5.5']:\n",
    "        cat = 'D'\n",
    "    elif x in ['14x5.0','14x7.0','15x5.5F Split','14x4.5','13x5.0','15x7.0 PLT','14x6.0','13x4.0','16x6.5F','13x4.5','13x5.5','14x6.5','12x4.0']:\n",
    "        cat = 'E'\n",
    "    else:\n",
    "        cat = 'Other'\n",
    "        \n",
    "    return cat"
   ]
  },
  {
   "cell_type": "code",
   "execution_count": 34,
   "id": "4d3c5b44",
   "metadata": {},
   "outputs": [],
   "source": [
    "df3['RearRimDesc'] = df3['RearRimDesc'].replace(nan, 'Not avialable')\n",
    "df3['RearRimDesc_cat'] = df3['RearRimDesc'].apply(lambda x: categorize_RearRimDesc(x))"
   ]
  },
  {
   "cell_type": "code",
   "execution_count": 35,
   "id": "f604ab9e",
   "metadata": {},
   "outputs": [
    {
     "data": {
      "text/plain": [
       "D        46178\n",
       "E         2137\n",
       "C          823\n",
       "Other      724\n",
       "B           84\n",
       "A           19\n",
       "Name: RearRimDesc_cat, dtype: int64"
      ]
     },
     "execution_count": 35,
     "metadata": {},
     "output_type": "execute_result"
    }
   ],
   "source": [
    "df3['RearRimDesc_cat'].value_counts(dropna=False)"
   ]
  },
  {
   "cell_type": "code",
   "execution_count": 36,
   "id": "9f158080",
   "metadata": {},
   "outputs": [
    {
     "data": {
      "text/html": [
       "<div>\n",
       "<style scoped>\n",
       "    .dataframe tbody tr th:only-of-type {\n",
       "        vertical-align: middle;\n",
       "    }\n",
       "\n",
       "    .dataframe tbody tr th {\n",
       "        vertical-align: top;\n",
       "    }\n",
       "\n",
       "    .dataframe thead th {\n",
       "        text-align: right;\n",
       "    }\n",
       "</style>\n",
       "<table border=\"1\" class=\"dataframe\">\n",
       "  <thead>\n",
       "    <tr style=\"text-align: right;\">\n",
       "      <th></th>\n",
       "      <th>RearRimDesc_cat</th>\n",
       "      <th>count</th>\n",
       "      <th>mean</th>\n",
       "    </tr>\n",
       "  </thead>\n",
       "  <tbody>\n",
       "    <tr>\n",
       "      <th>0</th>\n",
       "      <td>A</td>\n",
       "      <td>19</td>\n",
       "      <td>142960.526316</td>\n",
       "    </tr>\n",
       "    <tr>\n",
       "      <th>1</th>\n",
       "      <td>B</td>\n",
       "      <td>84</td>\n",
       "      <td>68820.654762</td>\n",
       "    </tr>\n",
       "    <tr>\n",
       "      <th>2</th>\n",
       "      <td>C</td>\n",
       "      <td>823</td>\n",
       "      <td>36857.427278</td>\n",
       "    </tr>\n",
       "    <tr>\n",
       "      <th>3</th>\n",
       "      <td>D</td>\n",
       "      <td>46178</td>\n",
       "      <td>16600.286046</td>\n",
       "    </tr>\n",
       "    <tr>\n",
       "      <th>4</th>\n",
       "      <td>Other</td>\n",
       "      <td>724</td>\n",
       "      <td>11618.930097</td>\n",
       "    </tr>\n",
       "    <tr>\n",
       "      <th>5</th>\n",
       "      <td>E</td>\n",
       "      <td>2137</td>\n",
       "      <td>8309.009738</td>\n",
       "    </tr>\n",
       "  </tbody>\n",
       "</table>\n",
       "</div>"
      ],
      "text/plain": [
       "  RearRimDesc_cat  count           mean\n",
       "0               A     19  142960.526316\n",
       "1               B     84   68820.654762\n",
       "2               C    823   36857.427278\n",
       "3               D  46178   16600.286046\n",
       "4           Other    724   11618.930097\n",
       "5               E   2137    8309.009738"
      ]
     },
     "execution_count": 36,
     "metadata": {},
     "output_type": "execute_result"
    }
   ],
   "source": [
    "df3.groupby('RearRimDesc_cat')['Sold_Amount'].aggregate(['count', 'mean']).sort_values(['mean'], ascending=False).reset_index()"
   ]
  },
  {
   "cell_type": "markdown",
   "id": "24aaa655",
   "metadata": {},
   "source": [
    "### g) VFactsPrice"
   ]
  },
  {
   "cell_type": "markdown",
   "id": "b46bc373",
   "metadata": {},
   "source": [
    "#### Average sold amount by VFactsPrice categories"
   ]
  },
  {
   "cell_type": "code",
   "execution_count": 37,
   "id": "13eb49c5",
   "metadata": {},
   "outputs": [
    {
     "data": {
      "text/html": [
       "<div>\n",
       "<style scoped>\n",
       "    .dataframe tbody tr th:only-of-type {\n",
       "        vertical-align: middle;\n",
       "    }\n",
       "\n",
       "    .dataframe tbody tr th {\n",
       "        vertical-align: top;\n",
       "    }\n",
       "\n",
       "    .dataframe thead th {\n",
       "        text-align: right;\n",
       "    }\n",
       "</style>\n",
       "<table border=\"1\" class=\"dataframe\">\n",
       "  <thead>\n",
       "    <tr style=\"text-align: right;\">\n",
       "      <th></th>\n",
       "      <th>VFactsPrice</th>\n",
       "      <th>count</th>\n",
       "      <th>mean</th>\n",
       "    </tr>\n",
       "  </thead>\n",
       "  <tbody>\n",
       "    <tr>\n",
       "      <th>0</th>\n",
       "      <td>&gt; $200K</td>\n",
       "      <td>27</td>\n",
       "      <td>120111.111111</td>\n",
       "    </tr>\n",
       "    <tr>\n",
       "      <th>1</th>\n",
       "      <td>&gt; $100K</td>\n",
       "      <td>71</td>\n",
       "      <td>50195.774648</td>\n",
       "    </tr>\n",
       "    <tr>\n",
       "      <th>2</th>\n",
       "      <td>&gt; $80K</td>\n",
       "      <td>126</td>\n",
       "      <td>46577.936508</td>\n",
       "    </tr>\n",
       "    <tr>\n",
       "      <th>3</th>\n",
       "      <td>&gt; $70K</td>\n",
       "      <td>401</td>\n",
       "      <td>37365.570175</td>\n",
       "    </tr>\n",
       "    <tr>\n",
       "      <th>4</th>\n",
       "      <td>&lt; $100K</td>\n",
       "      <td>1571</td>\n",
       "      <td>28657.314481</td>\n",
       "    </tr>\n",
       "    <tr>\n",
       "      <th>5</th>\n",
       "      <td>&gt; $60K</td>\n",
       "      <td>343</td>\n",
       "      <td>28051.341137</td>\n",
       "    </tr>\n",
       "    <tr>\n",
       "      <th>6</th>\n",
       "      <td>&lt; 20 seats</td>\n",
       "      <td>280</td>\n",
       "      <td>24367.796429</td>\n",
       "    </tr>\n",
       "    <tr>\n",
       "      <th>7</th>\n",
       "      <td>&lt; $80K</td>\n",
       "      <td>358</td>\n",
       "      <td>20398.698045</td>\n",
       "    </tr>\n",
       "    <tr>\n",
       "      <th>8</th>\n",
       "      <td>&gt; $40K</td>\n",
       "      <td>81</td>\n",
       "      <td>19711.481481</td>\n",
       "    </tr>\n",
       "    <tr>\n",
       "      <th>9</th>\n",
       "      <td>&lt; $60K</td>\n",
       "      <td>7523</td>\n",
       "      <td>16746.558571</td>\n",
       "    </tr>\n",
       "    <tr>\n",
       "      <th>10</th>\n",
       "      <td>&lt; $70K</td>\n",
       "      <td>19023</td>\n",
       "      <td>16641.851780</td>\n",
       "    </tr>\n",
       "    <tr>\n",
       "      <th>11</th>\n",
       "      <td>2.5t-3.5t</td>\n",
       "      <td>1460</td>\n",
       "      <td>15735.399315</td>\n",
       "    </tr>\n",
       "    <tr>\n",
       "      <th>12</th>\n",
       "      <td>&gt; $25K</td>\n",
       "      <td>65</td>\n",
       "      <td>14624.830769</td>\n",
       "    </tr>\n",
       "    <tr>\n",
       "      <th>13</th>\n",
       "      <td>&lt; $40K</td>\n",
       "      <td>6306</td>\n",
       "      <td>13292.554401</td>\n",
       "    </tr>\n",
       "    <tr>\n",
       "      <th>14</th>\n",
       "      <td>&lt;= 2.5t</td>\n",
       "      <td>155</td>\n",
       "      <td>10140.271613</td>\n",
       "    </tr>\n",
       "    <tr>\n",
       "      <th>15</th>\n",
       "      <td>&lt; $25K</td>\n",
       "      <td>1878</td>\n",
       "      <td>9790.045714</td>\n",
       "    </tr>\n",
       "    <tr>\n",
       "      <th>16</th>\n",
       "      <td>Micro</td>\n",
       "      <td>76</td>\n",
       "      <td>7284.592105</td>\n",
       "    </tr>\n",
       "  </tbody>\n",
       "</table>\n",
       "</div>"
      ],
      "text/plain": [
       "   VFactsPrice  count           mean\n",
       "0      > $200K     27  120111.111111\n",
       "1      > $100K     71   50195.774648\n",
       "2       > $80K    126   46577.936508\n",
       "3       > $70K    401   37365.570175\n",
       "4      < $100K   1571   28657.314481\n",
       "5       > $60K    343   28051.341137\n",
       "6   < 20 seats    280   24367.796429\n",
       "7       < $80K    358   20398.698045\n",
       "8       > $40K     81   19711.481481\n",
       "9       < $60K   7523   16746.558571\n",
       "10      < $70K  19023   16641.851780\n",
       "11   2.5t-3.5t   1460   15735.399315\n",
       "12      > $25K     65   14624.830769\n",
       "13      < $40K   6306   13292.554401\n",
       "14     <= 2.5t    155   10140.271613\n",
       "15      < $25K   1878    9790.045714\n",
       "16       Micro     76    7284.592105"
      ]
     },
     "execution_count": 37,
     "metadata": {},
     "output_type": "execute_result"
    }
   ],
   "source": [
    "df3.groupby('VFactsPrice')['Sold_Amount'].aggregate(['count', 'mean']).sort_values(['mean'], ascending=False).reset_index()"
   ]
  },
  {
   "cell_type": "markdown",
   "id": "9c8a6ea1",
   "metadata": {},
   "source": [
    "* Generate new categories by grouping existing categories based on average sold amount"
   ]
  },
  {
   "cell_type": "code",
   "execution_count": 38,
   "id": "b627ca91",
   "metadata": {},
   "outputs": [],
   "source": [
    "def categorize_VFactsPrice(x):\n",
    "    cat = ''\n",
    "    \n",
    "    if x in ['> $200K']:\n",
    "        cat = 'A'\n",
    "    elif x in ['> $100K']:\n",
    "        cat = 'B'\n",
    "    elif x in ['> $80K','> $70K','< $100K','> $60K','< 20 seats','< $80K']:\n",
    "        cat = 'C'\n",
    "    elif x in ['> $40K','< $60K','< $70K','2.5t-3.5t','> $25K','< $40K']:\n",
    "        cat = 'D'\n",
    "    elif x in ['<= 2.5t','< $25K','Micro']:\n",
    "        cat = 'E'\n",
    "    else:\n",
    "        cat = 'Other'\n",
    "        \n",
    "    return cat"
   ]
  },
  {
   "cell_type": "code",
   "execution_count": 39,
   "id": "01422524",
   "metadata": {},
   "outputs": [],
   "source": [
    "df3['VFactsPrice'] = df3['VFactsPrice'].replace(nan, 'Not avialable')\n",
    "df3['VFactsPrice_cat'] = df3['VFactsPrice'].apply(lambda x: categorize_VFactsPrice(x))"
   ]
  },
  {
   "cell_type": "code",
   "execution_count": 40,
   "id": "aa6427ad",
   "metadata": {},
   "outputs": [
    {
     "data": {
      "text/plain": [
       "D        34458\n",
       "Other    10221\n",
       "C         3079\n",
       "E         2109\n",
       "B           71\n",
       "A           27\n",
       "Name: VFactsPrice_cat, dtype: int64"
      ]
     },
     "execution_count": 40,
     "metadata": {},
     "output_type": "execute_result"
    }
   ],
   "source": [
    "df3['VFactsPrice_cat'].value_counts(dropna=False)"
   ]
  },
  {
   "cell_type": "code",
   "execution_count": 41,
   "id": "8599ef47",
   "metadata": {
    "scrolled": true
   },
   "outputs": [
    {
     "data": {
      "text/html": [
       "<div>\n",
       "<style scoped>\n",
       "    .dataframe tbody tr th:only-of-type {\n",
       "        vertical-align: middle;\n",
       "    }\n",
       "\n",
       "    .dataframe tbody tr th {\n",
       "        vertical-align: top;\n",
       "    }\n",
       "\n",
       "    .dataframe thead th {\n",
       "        text-align: right;\n",
       "    }\n",
       "</style>\n",
       "<table border=\"1\" class=\"dataframe\">\n",
       "  <thead>\n",
       "    <tr style=\"text-align: right;\">\n",
       "      <th></th>\n",
       "      <th>VFactsPrice_cat</th>\n",
       "      <th>count</th>\n",
       "      <th>mean</th>\n",
       "    </tr>\n",
       "  </thead>\n",
       "  <tbody>\n",
       "    <tr>\n",
       "      <th>0</th>\n",
       "      <td>A</td>\n",
       "      <td>27</td>\n",
       "      <td>120111.111111</td>\n",
       "    </tr>\n",
       "    <tr>\n",
       "      <th>1</th>\n",
       "      <td>B</td>\n",
       "      <td>71</td>\n",
       "      <td>50195.774648</td>\n",
       "    </tr>\n",
       "    <tr>\n",
       "      <th>2</th>\n",
       "      <td>C</td>\n",
       "      <td>3079</td>\n",
       "      <td>29106.976811</td>\n",
       "    </tr>\n",
       "    <tr>\n",
       "      <th>3</th>\n",
       "      <td>D</td>\n",
       "      <td>34458</td>\n",
       "      <td>16016.776412</td>\n",
       "    </tr>\n",
       "    <tr>\n",
       "      <th>4</th>\n",
       "      <td>Other</td>\n",
       "      <td>10221</td>\n",
       "      <td>15920.445721</td>\n",
       "    </tr>\n",
       "    <tr>\n",
       "      <th>5</th>\n",
       "      <td>E</td>\n",
       "      <td>2109</td>\n",
       "      <td>9725.498791</td>\n",
       "    </tr>\n",
       "  </tbody>\n",
       "</table>\n",
       "</div>"
      ],
      "text/plain": [
       "  VFactsPrice_cat  count           mean\n",
       "0               A     27  120111.111111\n",
       "1               B     71   50195.774648\n",
       "2               C   3079   29106.976811\n",
       "3               D  34458   16016.776412\n",
       "4           Other  10221   15920.445721\n",
       "5               E   2109    9725.498791"
      ]
     },
     "execution_count": 41,
     "metadata": {},
     "output_type": "execute_result"
    }
   ],
   "source": [
    "df3.groupby('VFactsPrice_cat')['Sold_Amount'].aggregate(['count', 'mean']).sort_values(['mean'], ascending=False).reset_index()"
   ]
  },
  {
   "cell_type": "markdown",
   "id": "d33377af",
   "metadata": {},
   "source": [
    "### Define Categorical and Numertical Predictors"
   ]
  },
  {
   "cell_type": "code",
   "execution_count": 42,
   "id": "62fa4548",
   "metadata": {},
   "outputs": [],
   "source": [
    "cat_predictors = ['Make_cat', 'RearRimDesc_cat','VFactsPrice_cat', 'KM_group']\n",
    "int_predictors = ['NewPrice', 'KerbWeight', 'Age_Comp_Months_cap']"
   ]
  },
  {
   "cell_type": "code",
   "execution_count": 43,
   "id": "3918d9f4",
   "metadata": {},
   "outputs": [],
   "source": [
    "df4 = df3[cat_predictors+int_predictors+target].reset_index(drop=True)"
   ]
  },
  {
   "cell_type": "code",
   "execution_count": 44,
   "id": "266e6a3a",
   "metadata": {},
   "outputs": [
    {
     "data": {
      "text/plain": [
       "(49965, 8)"
      ]
     },
     "execution_count": 44,
     "metadata": {},
     "output_type": "execute_result"
    }
   ],
   "source": [
    "df4.shape"
   ]
  },
  {
   "cell_type": "code",
   "execution_count": 45,
   "id": "8e1faa07",
   "metadata": {
    "scrolled": true
   },
   "outputs": [
    {
     "data": {
      "text/html": [
       "<div>\n",
       "<style scoped>\n",
       "    .dataframe tbody tr th:only-of-type {\n",
       "        vertical-align: middle;\n",
       "    }\n",
       "\n",
       "    .dataframe tbody tr th {\n",
       "        vertical-align: top;\n",
       "    }\n",
       "\n",
       "    .dataframe thead th {\n",
       "        text-align: right;\n",
       "    }\n",
       "</style>\n",
       "<table border=\"1\" class=\"dataframe\">\n",
       "  <thead>\n",
       "    <tr style=\"text-align: right;\">\n",
       "      <th></th>\n",
       "      <th>Make_cat</th>\n",
       "      <th>RearRimDesc_cat</th>\n",
       "      <th>VFactsPrice_cat</th>\n",
       "      <th>KM_group</th>\n",
       "      <th>NewPrice</th>\n",
       "      <th>KerbWeight</th>\n",
       "      <th>Age_Comp_Months_cap</th>\n",
       "      <th>Sold_Amount</th>\n",
       "    </tr>\n",
       "  </thead>\n",
       "  <tbody>\n",
       "    <tr>\n",
       "      <th>0</th>\n",
       "      <td>F</td>\n",
       "      <td>D</td>\n",
       "      <td>D</td>\n",
       "      <td>+200K</td>\n",
       "      <td>34790.0</td>\n",
       "      <td>1690.0</td>\n",
       "      <td>93.0</td>\n",
       "      <td>2000.0</td>\n",
       "    </tr>\n",
       "    <tr>\n",
       "      <th>1</th>\n",
       "      <td>F</td>\n",
       "      <td>D</td>\n",
       "      <td>D</td>\n",
       "      <td>200K</td>\n",
       "      <td>27978.0</td>\n",
       "      <td>1380.0</td>\n",
       "      <td>86.0</td>\n",
       "      <td>6800.0</td>\n",
       "    </tr>\n",
       "    <tr>\n",
       "      <th>2</th>\n",
       "      <td>F</td>\n",
       "      <td>D</td>\n",
       "      <td>D</td>\n",
       "      <td>50K</td>\n",
       "      <td>31990.0</td>\n",
       "      <td>1545.0</td>\n",
       "      <td>16.0</td>\n",
       "      <td>22900.0</td>\n",
       "    </tr>\n",
       "    <tr>\n",
       "      <th>3</th>\n",
       "      <td>F</td>\n",
       "      <td>D</td>\n",
       "      <td>D</td>\n",
       "      <td>100K</td>\n",
       "      <td>35990.0</td>\n",
       "      <td>1576.0</td>\n",
       "      <td>48.0</td>\n",
       "      <td>10500.0</td>\n",
       "    </tr>\n",
       "    <tr>\n",
       "      <th>4</th>\n",
       "      <td>F</td>\n",
       "      <td>D</td>\n",
       "      <td>D</td>\n",
       "      <td>50K</td>\n",
       "      <td>49490.0</td>\n",
       "      <td>1725.0</td>\n",
       "      <td>28.0</td>\n",
       "      <td>31320.0</td>\n",
       "    </tr>\n",
       "    <tr>\n",
       "      <th>5</th>\n",
       "      <td>F</td>\n",
       "      <td>D</td>\n",
       "      <td>D</td>\n",
       "      <td>100K</td>\n",
       "      <td>32490.0</td>\n",
       "      <td>1485.0</td>\n",
       "      <td>50.0</td>\n",
       "      <td>8600.0</td>\n",
       "    </tr>\n",
       "    <tr>\n",
       "      <th>6</th>\n",
       "      <td>F</td>\n",
       "      <td>D</td>\n",
       "      <td>D</td>\n",
       "      <td>+200K</td>\n",
       "      <td>32340.0</td>\n",
       "      <td>1637.0</td>\n",
       "      <td>100.0</td>\n",
       "      <td>5600.0</td>\n",
       "    </tr>\n",
       "    <tr>\n",
       "      <th>7</th>\n",
       "      <td>F</td>\n",
       "      <td>D</td>\n",
       "      <td>D</td>\n",
       "      <td>100K</td>\n",
       "      <td>35555.0</td>\n",
       "      <td>1648.0</td>\n",
       "      <td>41.0</td>\n",
       "      <td>11825.0</td>\n",
       "    </tr>\n",
       "    <tr>\n",
       "      <th>8</th>\n",
       "      <td>F</td>\n",
       "      <td>D</td>\n",
       "      <td>Other</td>\n",
       "      <td>150K</td>\n",
       "      <td>42760.0</td>\n",
       "      <td>1330.0</td>\n",
       "      <td>100.0</td>\n",
       "      <td>7200.0</td>\n",
       "    </tr>\n",
       "    <tr>\n",
       "      <th>9</th>\n",
       "      <td>F</td>\n",
       "      <td>D</td>\n",
       "      <td>D</td>\n",
       "      <td>150K</td>\n",
       "      <td>34520.0</td>\n",
       "      <td>1356.0</td>\n",
       "      <td>88.0</td>\n",
       "      <td>8500.0</td>\n",
       "    </tr>\n",
       "  </tbody>\n",
       "</table>\n",
       "</div>"
      ],
      "text/plain": [
       "  Make_cat RearRimDesc_cat VFactsPrice_cat KM_group  NewPrice  KerbWeight  \\\n",
       "0        F               D               D    +200K   34790.0      1690.0   \n",
       "1        F               D               D     200K   27978.0      1380.0   \n",
       "2        F               D               D      50K   31990.0      1545.0   \n",
       "3        F               D               D     100K   35990.0      1576.0   \n",
       "4        F               D               D      50K   49490.0      1725.0   \n",
       "5        F               D               D     100K   32490.0      1485.0   \n",
       "6        F               D               D    +200K   32340.0      1637.0   \n",
       "7        F               D               D     100K   35555.0      1648.0   \n",
       "8        F               D           Other     150K   42760.0      1330.0   \n",
       "9        F               D               D     150K   34520.0      1356.0   \n",
       "\n",
       "   Age_Comp_Months_cap  Sold_Amount  \n",
       "0                 93.0       2000.0  \n",
       "1                 86.0       6800.0  \n",
       "2                 16.0      22900.0  \n",
       "3                 48.0      10500.0  \n",
       "4                 28.0      31320.0  \n",
       "5                 50.0       8600.0  \n",
       "6                100.0       5600.0  \n",
       "7                 41.0      11825.0  \n",
       "8                100.0       7200.0  \n",
       "9                 88.0       8500.0  "
      ]
     },
     "execution_count": 45,
     "metadata": {},
     "output_type": "execute_result"
    }
   ],
   "source": [
    "df4.head(10)"
   ]
  },
  {
   "cell_type": "markdown",
   "id": "77ccd290",
   "metadata": {},
   "source": [
    "## Encoode Categorical variable using One hot encoding"
   ]
  },
  {
   "cell_type": "markdown",
   "id": "4219667e",
   "metadata": {},
   "source": [
    "* Define a function to identify and save the unique categories in each categorical predictors to a dictionary"
   ]
  },
  {
   "cell_type": "code",
   "execution_count": 46,
   "id": "a334f128",
   "metadata": {},
   "outputs": [],
   "source": [
    "def update_cat_dict(cleansed_df, cat_col):\n",
    "    dictnry = {}\n",
    "    for col in cat_col:\n",
    "        lables = list(cleansed_df[col].unique())\n",
    "        dictnry[col] = sorted(lables)\n",
    "    return dictnry"
   ]
  },
  {
   "cell_type": "markdown",
   "id": "8fe521a2",
   "metadata": {},
   "source": [
    "* Define a function to encode categorical variable using unique categories"
   ]
  },
  {
   "cell_type": "code",
   "execution_count": 47,
   "id": "86ba1f79",
   "metadata": {},
   "outputs": [],
   "source": [
    "def onehot_encode_cat_variable(df, cat_var_list, dictn):\n",
    "    new_encoded_col = []\n",
    "    for var in cat_var_list:\n",
    "        temp_var = dictn[var]\n",
    "        #temp_var.pop(len(temp_var)-1)\n",
    "        for cat in temp_var:\n",
    "            df['%s_%s' % (var.lower(), cat.replace(\" \", \"\").lower())] = 0\n",
    "            df['%s_%s' % (var.lower(), cat.replace(\" \", \"\").lower())] = df[var].apply(\n",
    "                lambda x: (x.lower() == cat.lower()) * 1)\n",
    "            new_encoded_col.append('%s_%s' % (var.lower(), cat.replace(\" \", \"\").lower()))\n",
    "\n",
    "    return df, new_encoded_col"
   ]
  },
  {
   "cell_type": "markdown",
   "id": "8380f86c",
   "metadata": {},
   "source": [
    "Note: If we want we can use label encoder given by sklearn, but I prefer one-hot-encoding over label encoder  "
   ]
  },
  {
   "cell_type": "markdown",
   "id": "a5ab442f",
   "metadata": {},
   "source": [
    "### Save unique categories in each categorical feature as a dictionary"
   ]
  },
  {
   "cell_type": "code",
   "execution_count": 48,
   "id": "2613c088",
   "metadata": {},
   "outputs": [],
   "source": [
    "dic = update_cat_dict(df4, cat_predictors)"
   ]
  },
  {
   "cell_type": "code",
   "execution_count": 49,
   "id": "bb7ad76c",
   "metadata": {},
   "outputs": [
    {
     "data": {
      "text/plain": [
       "{'Make_cat': ['A', 'B', 'C', 'D', 'E', 'F', 'G'],\n",
       " 'RearRimDesc_cat': ['A', 'B', 'C', 'D', 'E', 'Other'],\n",
       " 'VFactsPrice_cat': ['A', 'B', 'C', 'D', 'E', 'Other'],\n",
       " 'KM_group': ['+200K', '100K', '150K', '200K', '20K', '50K']}"
      ]
     },
     "execution_count": 49,
     "metadata": {},
     "output_type": "execute_result"
    }
   ],
   "source": [
    "dic"
   ]
  },
  {
   "cell_type": "markdown",
   "id": "51249a1e",
   "metadata": {},
   "source": [
    "### Encoding"
   ]
  },
  {
   "cell_type": "code",
   "execution_count": 50,
   "id": "0da17065",
   "metadata": {},
   "outputs": [],
   "source": [
    "encoded_df, new_encode_predictors = onehot_encode_cat_variable(df4, cat_predictors, dic)"
   ]
  },
  {
   "cell_type": "code",
   "execution_count": 51,
   "id": "e200feed",
   "metadata": {},
   "outputs": [
    {
     "data": {
      "text/html": [
       "<div>\n",
       "<style scoped>\n",
       "    .dataframe tbody tr th:only-of-type {\n",
       "        vertical-align: middle;\n",
       "    }\n",
       "\n",
       "    .dataframe tbody tr th {\n",
       "        vertical-align: top;\n",
       "    }\n",
       "\n",
       "    .dataframe thead th {\n",
       "        text-align: right;\n",
       "    }\n",
       "</style>\n",
       "<table border=\"1\" class=\"dataframe\">\n",
       "  <thead>\n",
       "    <tr style=\"text-align: right;\">\n",
       "      <th></th>\n",
       "      <th>make_cat_a</th>\n",
       "      <th>make_cat_b</th>\n",
       "      <th>make_cat_c</th>\n",
       "      <th>make_cat_d</th>\n",
       "      <th>make_cat_e</th>\n",
       "      <th>make_cat_f</th>\n",
       "      <th>make_cat_g</th>\n",
       "      <th>rearrimdesc_cat_a</th>\n",
       "      <th>rearrimdesc_cat_b</th>\n",
       "      <th>rearrimdesc_cat_c</th>\n",
       "      <th>...</th>\n",
       "      <th>km_group_+200k</th>\n",
       "      <th>km_group_100k</th>\n",
       "      <th>km_group_150k</th>\n",
       "      <th>km_group_200k</th>\n",
       "      <th>km_group_20k</th>\n",
       "      <th>km_group_50k</th>\n",
       "      <th>NewPrice</th>\n",
       "      <th>KerbWeight</th>\n",
       "      <th>Age_Comp_Months_cap</th>\n",
       "      <th>Sold_Amount</th>\n",
       "    </tr>\n",
       "  </thead>\n",
       "  <tbody>\n",
       "    <tr>\n",
       "      <th>0</th>\n",
       "      <td>0</td>\n",
       "      <td>0</td>\n",
       "      <td>0</td>\n",
       "      <td>0</td>\n",
       "      <td>0</td>\n",
       "      <td>1</td>\n",
       "      <td>0</td>\n",
       "      <td>0</td>\n",
       "      <td>0</td>\n",
       "      <td>0</td>\n",
       "      <td>...</td>\n",
       "      <td>1</td>\n",
       "      <td>0</td>\n",
       "      <td>0</td>\n",
       "      <td>0</td>\n",
       "      <td>0</td>\n",
       "      <td>0</td>\n",
       "      <td>34790.0</td>\n",
       "      <td>1690.0</td>\n",
       "      <td>93.0</td>\n",
       "      <td>2000.0</td>\n",
       "    </tr>\n",
       "    <tr>\n",
       "      <th>1</th>\n",
       "      <td>0</td>\n",
       "      <td>0</td>\n",
       "      <td>0</td>\n",
       "      <td>0</td>\n",
       "      <td>0</td>\n",
       "      <td>1</td>\n",
       "      <td>0</td>\n",
       "      <td>0</td>\n",
       "      <td>0</td>\n",
       "      <td>0</td>\n",
       "      <td>...</td>\n",
       "      <td>0</td>\n",
       "      <td>0</td>\n",
       "      <td>0</td>\n",
       "      <td>1</td>\n",
       "      <td>0</td>\n",
       "      <td>0</td>\n",
       "      <td>27978.0</td>\n",
       "      <td>1380.0</td>\n",
       "      <td>86.0</td>\n",
       "      <td>6800.0</td>\n",
       "    </tr>\n",
       "    <tr>\n",
       "      <th>2</th>\n",
       "      <td>0</td>\n",
       "      <td>0</td>\n",
       "      <td>0</td>\n",
       "      <td>0</td>\n",
       "      <td>0</td>\n",
       "      <td>1</td>\n",
       "      <td>0</td>\n",
       "      <td>0</td>\n",
       "      <td>0</td>\n",
       "      <td>0</td>\n",
       "      <td>...</td>\n",
       "      <td>0</td>\n",
       "      <td>0</td>\n",
       "      <td>0</td>\n",
       "      <td>0</td>\n",
       "      <td>0</td>\n",
       "      <td>1</td>\n",
       "      <td>31990.0</td>\n",
       "      <td>1545.0</td>\n",
       "      <td>16.0</td>\n",
       "      <td>22900.0</td>\n",
       "    </tr>\n",
       "    <tr>\n",
       "      <th>3</th>\n",
       "      <td>0</td>\n",
       "      <td>0</td>\n",
       "      <td>0</td>\n",
       "      <td>0</td>\n",
       "      <td>0</td>\n",
       "      <td>1</td>\n",
       "      <td>0</td>\n",
       "      <td>0</td>\n",
       "      <td>0</td>\n",
       "      <td>0</td>\n",
       "      <td>...</td>\n",
       "      <td>0</td>\n",
       "      <td>1</td>\n",
       "      <td>0</td>\n",
       "      <td>0</td>\n",
       "      <td>0</td>\n",
       "      <td>0</td>\n",
       "      <td>35990.0</td>\n",
       "      <td>1576.0</td>\n",
       "      <td>48.0</td>\n",
       "      <td>10500.0</td>\n",
       "    </tr>\n",
       "    <tr>\n",
       "      <th>4</th>\n",
       "      <td>0</td>\n",
       "      <td>0</td>\n",
       "      <td>0</td>\n",
       "      <td>0</td>\n",
       "      <td>0</td>\n",
       "      <td>1</td>\n",
       "      <td>0</td>\n",
       "      <td>0</td>\n",
       "      <td>0</td>\n",
       "      <td>0</td>\n",
       "      <td>...</td>\n",
       "      <td>0</td>\n",
       "      <td>0</td>\n",
       "      <td>0</td>\n",
       "      <td>0</td>\n",
       "      <td>0</td>\n",
       "      <td>1</td>\n",
       "      <td>49490.0</td>\n",
       "      <td>1725.0</td>\n",
       "      <td>28.0</td>\n",
       "      <td>31320.0</td>\n",
       "    </tr>\n",
       "    <tr>\n",
       "      <th>...</th>\n",
       "      <td>...</td>\n",
       "      <td>...</td>\n",
       "      <td>...</td>\n",
       "      <td>...</td>\n",
       "      <td>...</td>\n",
       "      <td>...</td>\n",
       "      <td>...</td>\n",
       "      <td>...</td>\n",
       "      <td>...</td>\n",
       "      <td>...</td>\n",
       "      <td>...</td>\n",
       "      <td>...</td>\n",
       "      <td>...</td>\n",
       "      <td>...</td>\n",
       "      <td>...</td>\n",
       "      <td>...</td>\n",
       "      <td>...</td>\n",
       "      <td>...</td>\n",
       "      <td>...</td>\n",
       "      <td>...</td>\n",
       "      <td>...</td>\n",
       "    </tr>\n",
       "    <tr>\n",
       "      <th>49960</th>\n",
       "      <td>0</td>\n",
       "      <td>0</td>\n",
       "      <td>0</td>\n",
       "      <td>0</td>\n",
       "      <td>0</td>\n",
       "      <td>1</td>\n",
       "      <td>0</td>\n",
       "      <td>0</td>\n",
       "      <td>0</td>\n",
       "      <td>0</td>\n",
       "      <td>...</td>\n",
       "      <td>0</td>\n",
       "      <td>0</td>\n",
       "      <td>1</td>\n",
       "      <td>0</td>\n",
       "      <td>0</td>\n",
       "      <td>0</td>\n",
       "      <td>39740.0</td>\n",
       "      <td>1595.0</td>\n",
       "      <td>37.0</td>\n",
       "      <td>11800.0</td>\n",
       "    </tr>\n",
       "    <tr>\n",
       "      <th>49961</th>\n",
       "      <td>0</td>\n",
       "      <td>0</td>\n",
       "      <td>0</td>\n",
       "      <td>0</td>\n",
       "      <td>0</td>\n",
       "      <td>1</td>\n",
       "      <td>0</td>\n",
       "      <td>0</td>\n",
       "      <td>0</td>\n",
       "      <td>0</td>\n",
       "      <td>...</td>\n",
       "      <td>0</td>\n",
       "      <td>0</td>\n",
       "      <td>0</td>\n",
       "      <td>1</td>\n",
       "      <td>0</td>\n",
       "      <td>0</td>\n",
       "      <td>33570.0</td>\n",
       "      <td>1555.0</td>\n",
       "      <td>72.0</td>\n",
       "      <td>3450.0</td>\n",
       "    </tr>\n",
       "    <tr>\n",
       "      <th>49962</th>\n",
       "      <td>0</td>\n",
       "      <td>0</td>\n",
       "      <td>0</td>\n",
       "      <td>0</td>\n",
       "      <td>0</td>\n",
       "      <td>1</td>\n",
       "      <td>0</td>\n",
       "      <td>0</td>\n",
       "      <td>0</td>\n",
       "      <td>0</td>\n",
       "      <td>...</td>\n",
       "      <td>0</td>\n",
       "      <td>1</td>\n",
       "      <td>0</td>\n",
       "      <td>0</td>\n",
       "      <td>0</td>\n",
       "      <td>0</td>\n",
       "      <td>26390.0</td>\n",
       "      <td>1449.0</td>\n",
       "      <td>39.0</td>\n",
       "      <td>11700.0</td>\n",
       "    </tr>\n",
       "    <tr>\n",
       "      <th>49963</th>\n",
       "      <td>0</td>\n",
       "      <td>0</td>\n",
       "      <td>0</td>\n",
       "      <td>0</td>\n",
       "      <td>0</td>\n",
       "      <td>1</td>\n",
       "      <td>0</td>\n",
       "      <td>0</td>\n",
       "      <td>0</td>\n",
       "      <td>0</td>\n",
       "      <td>...</td>\n",
       "      <td>0</td>\n",
       "      <td>1</td>\n",
       "      <td>0</td>\n",
       "      <td>0</td>\n",
       "      <td>0</td>\n",
       "      <td>0</td>\n",
       "      <td>34660.0</td>\n",
       "      <td>1648.0</td>\n",
       "      <td>55.0</td>\n",
       "      <td>8600.0</td>\n",
       "    </tr>\n",
       "    <tr>\n",
       "      <th>49964</th>\n",
       "      <td>0</td>\n",
       "      <td>0</td>\n",
       "      <td>0</td>\n",
       "      <td>0</td>\n",
       "      <td>0</td>\n",
       "      <td>1</td>\n",
       "      <td>0</td>\n",
       "      <td>0</td>\n",
       "      <td>0</td>\n",
       "      <td>0</td>\n",
       "      <td>...</td>\n",
       "      <td>0</td>\n",
       "      <td>0</td>\n",
       "      <td>1</td>\n",
       "      <td>0</td>\n",
       "      <td>0</td>\n",
       "      <td>0</td>\n",
       "      <td>35740.0</td>\n",
       "      <td>1514.0</td>\n",
       "      <td>39.0</td>\n",
       "      <td>12600.0</td>\n",
       "    </tr>\n",
       "  </tbody>\n",
       "</table>\n",
       "<p>49965 rows × 29 columns</p>\n",
       "</div>"
      ],
      "text/plain": [
       "       make_cat_a  make_cat_b  make_cat_c  make_cat_d  make_cat_e  make_cat_f  \\\n",
       "0               0           0           0           0           0           1   \n",
       "1               0           0           0           0           0           1   \n",
       "2               0           0           0           0           0           1   \n",
       "3               0           0           0           0           0           1   \n",
       "4               0           0           0           0           0           1   \n",
       "...           ...         ...         ...         ...         ...         ...   \n",
       "49960           0           0           0           0           0           1   \n",
       "49961           0           0           0           0           0           1   \n",
       "49962           0           0           0           0           0           1   \n",
       "49963           0           0           0           0           0           1   \n",
       "49964           0           0           0           0           0           1   \n",
       "\n",
       "       make_cat_g  rearrimdesc_cat_a  rearrimdesc_cat_b  rearrimdesc_cat_c  \\\n",
       "0               0                  0                  0                  0   \n",
       "1               0                  0                  0                  0   \n",
       "2               0                  0                  0                  0   \n",
       "3               0                  0                  0                  0   \n",
       "4               0                  0                  0                  0   \n",
       "...           ...                ...                ...                ...   \n",
       "49960           0                  0                  0                  0   \n",
       "49961           0                  0                  0                  0   \n",
       "49962           0                  0                  0                  0   \n",
       "49963           0                  0                  0                  0   \n",
       "49964           0                  0                  0                  0   \n",
       "\n",
       "       ...  km_group_+200k  km_group_100k  km_group_150k  km_group_200k  \\\n",
       "0      ...               1              0              0              0   \n",
       "1      ...               0              0              0              1   \n",
       "2      ...               0              0              0              0   \n",
       "3      ...               0              1              0              0   \n",
       "4      ...               0              0              0              0   \n",
       "...    ...             ...            ...            ...            ...   \n",
       "49960  ...               0              0              1              0   \n",
       "49961  ...               0              0              0              1   \n",
       "49962  ...               0              1              0              0   \n",
       "49963  ...               0              1              0              0   \n",
       "49964  ...               0              0              1              0   \n",
       "\n",
       "       km_group_20k  km_group_50k  NewPrice  KerbWeight  Age_Comp_Months_cap  \\\n",
       "0                 0             0   34790.0      1690.0                 93.0   \n",
       "1                 0             0   27978.0      1380.0                 86.0   \n",
       "2                 0             1   31990.0      1545.0                 16.0   \n",
       "3                 0             0   35990.0      1576.0                 48.0   \n",
       "4                 0             1   49490.0      1725.0                 28.0   \n",
       "...             ...           ...       ...         ...                  ...   \n",
       "49960             0             0   39740.0      1595.0                 37.0   \n",
       "49961             0             0   33570.0      1555.0                 72.0   \n",
       "49962             0             0   26390.0      1449.0                 39.0   \n",
       "49963             0             0   34660.0      1648.0                 55.0   \n",
       "49964             0             0   35740.0      1514.0                 39.0   \n",
       "\n",
       "       Sold_Amount  \n",
       "0           2000.0  \n",
       "1           6800.0  \n",
       "2          22900.0  \n",
       "3          10500.0  \n",
       "4          31320.0  \n",
       "...            ...  \n",
       "49960      11800.0  \n",
       "49961       3450.0  \n",
       "49962      11700.0  \n",
       "49963       8600.0  \n",
       "49964      12600.0  \n",
       "\n",
       "[49965 rows x 29 columns]"
      ]
     },
     "execution_count": 51,
     "metadata": {},
     "output_type": "execute_result"
    }
   ],
   "source": [
    "encoded_df[new_encode_predictors+int_predictors+target]"
   ]
  },
  {
   "cell_type": "code",
   "execution_count": 52,
   "id": "688c7ef5",
   "metadata": {},
   "outputs": [
    {
     "data": {
      "text/plain": [
       "(49965, 28)"
      ]
     },
     "execution_count": 52,
     "metadata": {},
     "output_type": "execute_result"
    }
   ],
   "source": [
    "encoded_df[new_encode_predictors + int_predictors].shape"
   ]
  },
  {
   "cell_type": "markdown",
   "id": "dffdcedd",
   "metadata": {},
   "source": [
    "## Import Test data"
   ]
  },
  {
   "cell_type": "code",
   "execution_count": 53,
   "id": "18e2b969",
   "metadata": {},
   "outputs": [],
   "source": [
    "df_test = pd.read_csv('DatiumTest.rpt', delimiter='\\t')"
   ]
  },
  {
   "cell_type": "code",
   "execution_count": 54,
   "id": "40fad103",
   "metadata": {},
   "outputs": [
    {
     "data": {
      "text/plain": [
       "(11488, 130)"
      ]
     },
     "execution_count": 54,
     "metadata": {},
     "output_type": "execute_result"
    }
   ],
   "source": [
    "df_test.shape"
   ]
  },
  {
   "cell_type": "markdown",
   "id": "ef0d3d62",
   "metadata": {},
   "source": [
    "Dataset contains 11,488 number of rows and 130 number of columns"
   ]
  },
  {
   "cell_type": "markdown",
   "id": "817f67d5",
   "metadata": {},
   "source": [
    "* Create a function including all the pre-processing steps used in the process of pre-processing the Training data"
   ]
  },
  {
   "cell_type": "code",
   "execution_count": 55,
   "id": "1f4238c4",
   "metadata": {},
   "outputs": [],
   "source": [
    "def data_preprocess(df, cat_predictors,int_predictors,target,is_train=1, is_scoring=0):\n",
    "    \n",
    "    df['NewPrice'].fillna(df['KM'].median(), inplace=True)\n",
    "    \n",
    "    df['KM'].fillna(df['KM'].median(), inplace=True)\n",
    "    df[\"KM_group\"] = pd.cut(df['KM'],bins=[-1, 20000, 50000, 100000, 150000, 200000, 10000000],\n",
    "                                    labels=['20K', '50K', '100K', '150K', '200K', '+200K'])\n",
    "    \n",
    "    df['KerbWeight'].fillna(df['KerbWeight'].mean(), inplace=True)\n",
    "    \n",
    "    df['Age_Comp_Months'].fillna(df['Age_Comp_Months'].median(), inplace=True)\n",
    "    df['Age_Comp_Months_cap'] = df['Age_Comp_Months'].apply(lambda x: capping_Age_Comp_Months(x))\n",
    "    \n",
    "    df['Make'] = df['Make'].replace(nan, 'Not avialable')\n",
    "    df['Make_cat'] = df['Make'].apply(lambda x: categorize_make(x))\n",
    "    \n",
    "    df['RearRimDesc'] = df['RearRimDesc'].replace(nan, 'Not avialable')\n",
    "    df['RearRimDesc_cat'] = df['RearRimDesc'].apply(lambda x: categorize_RearRimDesc(x))\n",
    "    \n",
    "    df['VFactsPrice'] = df['VFactsPrice'].replace(nan, 'Not avialable')\n",
    "    df['VFactsPrice_cat'] = df['VFactsPrice'].apply(lambda x: categorize_VFactsPrice(x))\n",
    "    \n",
    "    if is_train==1:\n",
    "        df = df[df['Sold_Amount']>1]\n",
    "        df = df[df['Sold_Amount'].notna()]\n",
    "        \n",
    "    if is_scoring ==1:\n",
    "        df = df[cat_predictors+int_predictors]\n",
    "    else:\n",
    "        df = df[cat_predictors+int_predictors+target].reset_index(drop=True)\n",
    "        \n",
    "    return df"
   ]
  },
  {
   "cell_type": "code",
   "execution_count": 56,
   "id": "ac456fac",
   "metadata": {},
   "outputs": [],
   "source": [
    "df_test2 = df_test [predictors+target]"
   ]
  },
  {
   "cell_type": "markdown",
   "id": "53b55352",
   "metadata": {},
   "source": [
    "### PreProcess Test data"
   ]
  },
  {
   "cell_type": "code",
   "execution_count": 57,
   "id": "19ad9fad",
   "metadata": {
    "scrolled": true
   },
   "outputs": [],
   "source": [
    "cleaned_test_df = data_preprocess(df_test2, cat_predictors, int_predictors, target,is_train=0)"
   ]
  },
  {
   "cell_type": "code",
   "execution_count": 58,
   "id": "9eaac092",
   "metadata": {},
   "outputs": [
    {
     "data": {
      "text/plain": [
       "(11488, 8)"
      ]
     },
     "execution_count": 58,
     "metadata": {},
     "output_type": "execute_result"
    }
   ],
   "source": [
    "cleaned_test_df.shape"
   ]
  },
  {
   "cell_type": "code",
   "execution_count": 59,
   "id": "9281c20d",
   "metadata": {},
   "outputs": [
    {
     "data": {
      "text/html": [
       "<div>\n",
       "<style scoped>\n",
       "    .dataframe tbody tr th:only-of-type {\n",
       "        vertical-align: middle;\n",
       "    }\n",
       "\n",
       "    .dataframe tbody tr th {\n",
       "        vertical-align: top;\n",
       "    }\n",
       "\n",
       "    .dataframe thead th {\n",
       "        text-align: right;\n",
       "    }\n",
       "</style>\n",
       "<table border=\"1\" class=\"dataframe\">\n",
       "  <thead>\n",
       "    <tr style=\"text-align: right;\">\n",
       "      <th></th>\n",
       "      <th>count</th>\n",
       "      <th>mean</th>\n",
       "      <th>std</th>\n",
       "      <th>min</th>\n",
       "      <th>25%</th>\n",
       "      <th>50%</th>\n",
       "      <th>75%</th>\n",
       "      <th>max</th>\n",
       "    </tr>\n",
       "  </thead>\n",
       "  <tbody>\n",
       "    <tr>\n",
       "      <th>NewPrice</th>\n",
       "      <td>11488.0</td>\n",
       "      <td>38559.449164</td>\n",
       "      <td>16060.427112</td>\n",
       "      <td>2478.0</td>\n",
       "      <td>29490.0</td>\n",
       "      <td>36490.000000</td>\n",
       "      <td>44390.00</td>\n",
       "      <td>365500.0</td>\n",
       "    </tr>\n",
       "    <tr>\n",
       "      <th>KerbWeight</th>\n",
       "      <td>11488.0</td>\n",
       "      <td>1661.981664</td>\n",
       "      <td>296.008575</td>\n",
       "      <td>730.0</td>\n",
       "      <td>1465.0</td>\n",
       "      <td>1661.981664</td>\n",
       "      <td>1837.75</td>\n",
       "      <td>2740.0</td>\n",
       "    </tr>\n",
       "    <tr>\n",
       "      <th>Age_Comp_Months_cap</th>\n",
       "      <td>11488.0</td>\n",
       "      <td>45.872824</td>\n",
       "      <td>25.518308</td>\n",
       "      <td>0.0</td>\n",
       "      <td>26.0</td>\n",
       "      <td>41.000000</td>\n",
       "      <td>61.00</td>\n",
       "      <td>100.0</td>\n",
       "    </tr>\n",
       "    <tr>\n",
       "      <th>Sold_Amount</th>\n",
       "      <td>11488.0</td>\n",
       "      <td>18142.115396</td>\n",
       "      <td>11392.162124</td>\n",
       "      <td>185.0</td>\n",
       "      <td>11200.0</td>\n",
       "      <td>15750.000000</td>\n",
       "      <td>22500.00</td>\n",
       "      <td>165450.0</td>\n",
       "    </tr>\n",
       "  </tbody>\n",
       "</table>\n",
       "</div>"
      ],
      "text/plain": [
       "                       count          mean           std     min      25%  \\\n",
       "NewPrice             11488.0  38559.449164  16060.427112  2478.0  29490.0   \n",
       "KerbWeight           11488.0   1661.981664    296.008575   730.0   1465.0   \n",
       "Age_Comp_Months_cap  11488.0     45.872824     25.518308     0.0     26.0   \n",
       "Sold_Amount          11488.0  18142.115396  11392.162124   185.0  11200.0   \n",
       "\n",
       "                              50%       75%       max  \n",
       "NewPrice             36490.000000  44390.00  365500.0  \n",
       "KerbWeight            1661.981664   1837.75    2740.0  \n",
       "Age_Comp_Months_cap     41.000000     61.00     100.0  \n",
       "Sold_Amount          15750.000000  22500.00  165450.0  "
      ]
     },
     "execution_count": 59,
     "metadata": {},
     "output_type": "execute_result"
    }
   ],
   "source": [
    "cleaned_test_df.describe().T"
   ]
  },
  {
   "cell_type": "markdown",
   "id": "58727eb6",
   "metadata": {},
   "source": [
    "### Encode Test Data"
   ]
  },
  {
   "cell_type": "markdown",
   "id": "091f3ab3",
   "metadata": {},
   "source": [
    "* Encoding categorical features in Test data. Here,I'm using pre-defined categories in Training data(dictionary)"
   ]
  },
  {
   "cell_type": "code",
   "execution_count": 60,
   "id": "c148eae6",
   "metadata": {},
   "outputs": [],
   "source": [
    "encoded_test_df, new_test_encode_predictors = onehot_encode_cat_variable(cleaned_test_df, cat_predictors, dic)"
   ]
  },
  {
   "cell_type": "code",
   "execution_count": 61,
   "id": "cd73b610",
   "metadata": {},
   "outputs": [
    {
     "data": {
      "text/plain": [
       "(11488, 33)"
      ]
     },
     "execution_count": 61,
     "metadata": {},
     "output_type": "execute_result"
    }
   ],
   "source": [
    "encoded_test_df.shape"
   ]
  },
  {
   "cell_type": "code",
   "execution_count": 62,
   "id": "1f6ac7aa",
   "metadata": {},
   "outputs": [],
   "source": [
    "encoded_test_df = encoded_test_df[new_encode_predictors+int_predictors+target]"
   ]
  },
  {
   "cell_type": "code",
   "execution_count": 63,
   "id": "460087d3",
   "metadata": {},
   "outputs": [
    {
     "data": {
      "text/plain": [
       "Index(['make_cat_a', 'make_cat_b', 'make_cat_c', 'make_cat_d', 'make_cat_e',\n",
       "       'make_cat_f', 'make_cat_g', 'rearrimdesc_cat_a', 'rearrimdesc_cat_b',\n",
       "       'rearrimdesc_cat_c', 'rearrimdesc_cat_d', 'rearrimdesc_cat_e',\n",
       "       'rearrimdesc_cat_other', 'vfactsprice_cat_a', 'vfactsprice_cat_b',\n",
       "       'vfactsprice_cat_c', 'vfactsprice_cat_d', 'vfactsprice_cat_e',\n",
       "       'vfactsprice_cat_other', 'km_group_+200k', 'km_group_100k',\n",
       "       'km_group_150k', 'km_group_200k', 'km_group_20k', 'km_group_50k',\n",
       "       'NewPrice', 'KerbWeight', 'Age_Comp_Months_cap', 'Sold_Amount'],\n",
       "      dtype='object')"
      ]
     },
     "execution_count": 63,
     "metadata": {},
     "output_type": "execute_result"
    }
   ],
   "source": [
    "encoded_test_df.columns"
   ]
  },
  {
   "cell_type": "code",
   "execution_count": 64,
   "id": "baa6408f",
   "metadata": {},
   "outputs": [
    {
     "data": {
      "text/plain": [
       "(11488, 29)"
      ]
     },
     "execution_count": 64,
     "metadata": {},
     "output_type": "execute_result"
    }
   ],
   "source": [
    "encoded_test_df.shape"
   ]
  },
  {
   "cell_type": "code",
   "execution_count": 65,
   "id": "2c048bdc",
   "metadata": {},
   "outputs": [
    {
     "data": {
      "text/html": [
       "<div>\n",
       "<style scoped>\n",
       "    .dataframe tbody tr th:only-of-type {\n",
       "        vertical-align: middle;\n",
       "    }\n",
       "\n",
       "    .dataframe tbody tr th {\n",
       "        vertical-align: top;\n",
       "    }\n",
       "\n",
       "    .dataframe thead th {\n",
       "        text-align: right;\n",
       "    }\n",
       "</style>\n",
       "<table border=\"1\" class=\"dataframe\">\n",
       "  <thead>\n",
       "    <tr style=\"text-align: right;\">\n",
       "      <th></th>\n",
       "      <th>make_cat_a</th>\n",
       "      <th>make_cat_b</th>\n",
       "      <th>make_cat_c</th>\n",
       "      <th>make_cat_d</th>\n",
       "      <th>make_cat_e</th>\n",
       "      <th>make_cat_f</th>\n",
       "      <th>make_cat_g</th>\n",
       "      <th>rearrimdesc_cat_a</th>\n",
       "      <th>rearrimdesc_cat_b</th>\n",
       "      <th>rearrimdesc_cat_c</th>\n",
       "      <th>...</th>\n",
       "      <th>km_group_+200k</th>\n",
       "      <th>km_group_100k</th>\n",
       "      <th>km_group_150k</th>\n",
       "      <th>km_group_200k</th>\n",
       "      <th>km_group_20k</th>\n",
       "      <th>km_group_50k</th>\n",
       "      <th>NewPrice</th>\n",
       "      <th>KerbWeight</th>\n",
       "      <th>Age_Comp_Months_cap</th>\n",
       "      <th>Sold_Amount</th>\n",
       "    </tr>\n",
       "  </thead>\n",
       "  <tbody>\n",
       "    <tr>\n",
       "      <th>0</th>\n",
       "      <td>0</td>\n",
       "      <td>0</td>\n",
       "      <td>0</td>\n",
       "      <td>0</td>\n",
       "      <td>0</td>\n",
       "      <td>1</td>\n",
       "      <td>0</td>\n",
       "      <td>0</td>\n",
       "      <td>0</td>\n",
       "      <td>0</td>\n",
       "      <td>...</td>\n",
       "      <td>0</td>\n",
       "      <td>0</td>\n",
       "      <td>0</td>\n",
       "      <td>0</td>\n",
       "      <td>1</td>\n",
       "      <td>0</td>\n",
       "      <td>30740.0</td>\n",
       "      <td>1686.000000</td>\n",
       "      <td>40.0</td>\n",
       "      <td>18000.0</td>\n",
       "    </tr>\n",
       "    <tr>\n",
       "      <th>1</th>\n",
       "      <td>0</td>\n",
       "      <td>0</td>\n",
       "      <td>0</td>\n",
       "      <td>0</td>\n",
       "      <td>0</td>\n",
       "      <td>1</td>\n",
       "      <td>0</td>\n",
       "      <td>0</td>\n",
       "      <td>1</td>\n",
       "      <td>0</td>\n",
       "      <td>...</td>\n",
       "      <td>0</td>\n",
       "      <td>0</td>\n",
       "      <td>0</td>\n",
       "      <td>0</td>\n",
       "      <td>1</td>\n",
       "      <td>0</td>\n",
       "      <td>68330.0</td>\n",
       "      <td>2065.000000</td>\n",
       "      <td>15.0</td>\n",
       "      <td>53250.0</td>\n",
       "    </tr>\n",
       "    <tr>\n",
       "      <th>2</th>\n",
       "      <td>0</td>\n",
       "      <td>0</td>\n",
       "      <td>0</td>\n",
       "      <td>0</td>\n",
       "      <td>0</td>\n",
       "      <td>1</td>\n",
       "      <td>0</td>\n",
       "      <td>0</td>\n",
       "      <td>0</td>\n",
       "      <td>0</td>\n",
       "      <td>...</td>\n",
       "      <td>0</td>\n",
       "      <td>0</td>\n",
       "      <td>1</td>\n",
       "      <td>0</td>\n",
       "      <td>0</td>\n",
       "      <td>0</td>\n",
       "      <td>34990.0</td>\n",
       "      <td>1661.981664</td>\n",
       "      <td>52.0</td>\n",
       "      <td>11500.0</td>\n",
       "    </tr>\n",
       "    <tr>\n",
       "      <th>3</th>\n",
       "      <td>0</td>\n",
       "      <td>0</td>\n",
       "      <td>0</td>\n",
       "      <td>0</td>\n",
       "      <td>0</td>\n",
       "      <td>1</td>\n",
       "      <td>0</td>\n",
       "      <td>0</td>\n",
       "      <td>0</td>\n",
       "      <td>0</td>\n",
       "      <td>...</td>\n",
       "      <td>0</td>\n",
       "      <td>0</td>\n",
       "      <td>0</td>\n",
       "      <td>0</td>\n",
       "      <td>0</td>\n",
       "      <td>1</td>\n",
       "      <td>31000.0</td>\n",
       "      <td>1661.981664</td>\n",
       "      <td>23.0</td>\n",
       "      <td>17500.0</td>\n",
       "    </tr>\n",
       "    <tr>\n",
       "      <th>4</th>\n",
       "      <td>0</td>\n",
       "      <td>0</td>\n",
       "      <td>0</td>\n",
       "      <td>0</td>\n",
       "      <td>0</td>\n",
       "      <td>1</td>\n",
       "      <td>0</td>\n",
       "      <td>0</td>\n",
       "      <td>0</td>\n",
       "      <td>0</td>\n",
       "      <td>...</td>\n",
       "      <td>0</td>\n",
       "      <td>0</td>\n",
       "      <td>0</td>\n",
       "      <td>0</td>\n",
       "      <td>0</td>\n",
       "      <td>1</td>\n",
       "      <td>34590.0</td>\n",
       "      <td>1796.000000</td>\n",
       "      <td>62.0</td>\n",
       "      <td>17100.0</td>\n",
       "    </tr>\n",
       "    <tr>\n",
       "      <th>5</th>\n",
       "      <td>0</td>\n",
       "      <td>0</td>\n",
       "      <td>0</td>\n",
       "      <td>0</td>\n",
       "      <td>0</td>\n",
       "      <td>1</td>\n",
       "      <td>0</td>\n",
       "      <td>0</td>\n",
       "      <td>0</td>\n",
       "      <td>0</td>\n",
       "      <td>...</td>\n",
       "      <td>0</td>\n",
       "      <td>1</td>\n",
       "      <td>0</td>\n",
       "      <td>0</td>\n",
       "      <td>0</td>\n",
       "      <td>0</td>\n",
       "      <td>27790.0</td>\n",
       "      <td>1563.000000</td>\n",
       "      <td>52.0</td>\n",
       "      <td>7860.0</td>\n",
       "    </tr>\n",
       "    <tr>\n",
       "      <th>6</th>\n",
       "      <td>0</td>\n",
       "      <td>0</td>\n",
       "      <td>0</td>\n",
       "      <td>0</td>\n",
       "      <td>0</td>\n",
       "      <td>1</td>\n",
       "      <td>0</td>\n",
       "      <td>0</td>\n",
       "      <td>0</td>\n",
       "      <td>0</td>\n",
       "      <td>...</td>\n",
       "      <td>0</td>\n",
       "      <td>0</td>\n",
       "      <td>0</td>\n",
       "      <td>0</td>\n",
       "      <td>0</td>\n",
       "      <td>1</td>\n",
       "      <td>54590.0</td>\n",
       "      <td>2040.000000</td>\n",
       "      <td>98.0</td>\n",
       "      <td>24500.0</td>\n",
       "    </tr>\n",
       "    <tr>\n",
       "      <th>7</th>\n",
       "      <td>0</td>\n",
       "      <td>0</td>\n",
       "      <td>0</td>\n",
       "      <td>0</td>\n",
       "      <td>0</td>\n",
       "      <td>0</td>\n",
       "      <td>1</td>\n",
       "      <td>0</td>\n",
       "      <td>0</td>\n",
       "      <td>0</td>\n",
       "      <td>...</td>\n",
       "      <td>0</td>\n",
       "      <td>0</td>\n",
       "      <td>0</td>\n",
       "      <td>0</td>\n",
       "      <td>0</td>\n",
       "      <td>1</td>\n",
       "      <td>21900.0</td>\n",
       "      <td>730.000000</td>\n",
       "      <td>100.0</td>\n",
       "      <td>1600.0</td>\n",
       "    </tr>\n",
       "    <tr>\n",
       "      <th>8</th>\n",
       "      <td>0</td>\n",
       "      <td>0</td>\n",
       "      <td>0</td>\n",
       "      <td>0</td>\n",
       "      <td>0</td>\n",
       "      <td>1</td>\n",
       "      <td>0</td>\n",
       "      <td>0</td>\n",
       "      <td>0</td>\n",
       "      <td>0</td>\n",
       "      <td>...</td>\n",
       "      <td>0</td>\n",
       "      <td>0</td>\n",
       "      <td>0</td>\n",
       "      <td>0</td>\n",
       "      <td>0</td>\n",
       "      <td>1</td>\n",
       "      <td>26490.0</td>\n",
       "      <td>1465.000000</td>\n",
       "      <td>15.0</td>\n",
       "      <td>15000.0</td>\n",
       "    </tr>\n",
       "    <tr>\n",
       "      <th>9</th>\n",
       "      <td>0</td>\n",
       "      <td>0</td>\n",
       "      <td>0</td>\n",
       "      <td>0</td>\n",
       "      <td>0</td>\n",
       "      <td>1</td>\n",
       "      <td>0</td>\n",
       "      <td>0</td>\n",
       "      <td>0</td>\n",
       "      <td>0</td>\n",
       "      <td>...</td>\n",
       "      <td>0</td>\n",
       "      <td>0</td>\n",
       "      <td>1</td>\n",
       "      <td>0</td>\n",
       "      <td>0</td>\n",
       "      <td>0</td>\n",
       "      <td>43890.0</td>\n",
       "      <td>2034.000000</td>\n",
       "      <td>60.0</td>\n",
       "      <td>19135.0</td>\n",
       "    </tr>\n",
       "  </tbody>\n",
       "</table>\n",
       "<p>10 rows × 29 columns</p>\n",
       "</div>"
      ],
      "text/plain": [
       "   make_cat_a  make_cat_b  make_cat_c  make_cat_d  make_cat_e  make_cat_f  \\\n",
       "0           0           0           0           0           0           1   \n",
       "1           0           0           0           0           0           1   \n",
       "2           0           0           0           0           0           1   \n",
       "3           0           0           0           0           0           1   \n",
       "4           0           0           0           0           0           1   \n",
       "5           0           0           0           0           0           1   \n",
       "6           0           0           0           0           0           1   \n",
       "7           0           0           0           0           0           0   \n",
       "8           0           0           0           0           0           1   \n",
       "9           0           0           0           0           0           1   \n",
       "\n",
       "   make_cat_g  rearrimdesc_cat_a  rearrimdesc_cat_b  rearrimdesc_cat_c  ...  \\\n",
       "0           0                  0                  0                  0  ...   \n",
       "1           0                  0                  1                  0  ...   \n",
       "2           0                  0                  0                  0  ...   \n",
       "3           0                  0                  0                  0  ...   \n",
       "4           0                  0                  0                  0  ...   \n",
       "5           0                  0                  0                  0  ...   \n",
       "6           0                  0                  0                  0  ...   \n",
       "7           1                  0                  0                  0  ...   \n",
       "8           0                  0                  0                  0  ...   \n",
       "9           0                  0                  0                  0  ...   \n",
       "\n",
       "   km_group_+200k  km_group_100k  km_group_150k  km_group_200k  km_group_20k  \\\n",
       "0               0              0              0              0             1   \n",
       "1               0              0              0              0             1   \n",
       "2               0              0              1              0             0   \n",
       "3               0              0              0              0             0   \n",
       "4               0              0              0              0             0   \n",
       "5               0              1              0              0             0   \n",
       "6               0              0              0              0             0   \n",
       "7               0              0              0              0             0   \n",
       "8               0              0              0              0             0   \n",
       "9               0              0              1              0             0   \n",
       "\n",
       "   km_group_50k  NewPrice   KerbWeight  Age_Comp_Months_cap  Sold_Amount  \n",
       "0             0   30740.0  1686.000000                 40.0      18000.0  \n",
       "1             0   68330.0  2065.000000                 15.0      53250.0  \n",
       "2             0   34990.0  1661.981664                 52.0      11500.0  \n",
       "3             1   31000.0  1661.981664                 23.0      17500.0  \n",
       "4             1   34590.0  1796.000000                 62.0      17100.0  \n",
       "5             0   27790.0  1563.000000                 52.0       7860.0  \n",
       "6             1   54590.0  2040.000000                 98.0      24500.0  \n",
       "7             1   21900.0   730.000000                100.0       1600.0  \n",
       "8             1   26490.0  1465.000000                 15.0      15000.0  \n",
       "9             0   43890.0  2034.000000                 60.0      19135.0  \n",
       "\n",
       "[10 rows x 29 columns]"
      ]
     },
     "execution_count": 65,
     "metadata": {},
     "output_type": "execute_result"
    }
   ],
   "source": [
    "encoded_test_df.head(10)"
   ]
  },
  {
   "cell_type": "markdown",
   "id": "b2bd606a",
   "metadata": {},
   "source": [
    "## Model Training"
   ]
  },
  {
   "cell_type": "markdown",
   "id": "e54f15f2",
   "metadata": {},
   "source": [
    "## 1) Random Forest"
   ]
  },
  {
   "cell_type": "code",
   "execution_count": 70,
   "id": "4c8f3518",
   "metadata": {},
   "outputs": [],
   "source": [
    "from sklearn.ensemble import RandomForestRegressor as rfr"
   ]
  },
  {
   "cell_type": "code",
   "execution_count": 71,
   "id": "68bedd8f",
   "metadata": {},
   "outputs": [
    {
     "name": "stderr",
     "output_type": "stream",
     "text": [
      "[Parallel(n_jobs=5)]: Using backend ThreadingBackend with 5 concurrent workers.\n",
      "[Parallel(n_jobs=5)]: Done  40 tasks      | elapsed:    1.3s\n",
      "[Parallel(n_jobs=5)]: Done 190 tasks      | elapsed:    6.2s\n",
      "[Parallel(n_jobs=5)]: Done 440 tasks      | elapsed:   16.0s\n",
      "[Parallel(n_jobs=5)]: Done 790 tasks      | elapsed:   29.5s\n",
      "[Parallel(n_jobs=5)]: Done 1240 tasks      | elapsed:   47.9s\n",
      "[Parallel(n_jobs=5)]: Done 1790 tasks      | elapsed:  1.2min\n",
      "[Parallel(n_jobs=5)]: Done 2440 tasks      | elapsed:  1.9min\n",
      "[Parallel(n_jobs=5)]: Done 3190 tasks      | elapsed:  2.5min\n",
      "[Parallel(n_jobs=5)]: Done 4040 tasks      | elapsed:  3.4min\n",
      "[Parallel(n_jobs=5)]: Done 4990 tasks      | elapsed:  4.3min\n",
      "[Parallel(n_jobs=5)]: Done 5000 out of 5000 | elapsed:  4.3min finished\n"
     ]
    }
   ],
   "source": [
    "lr_rf = rfr(n_jobs=5, n_estimators=5000, verbose=True).fit(encoded_df[new_encode_predictors + int_predictors], encoded_df[target])"
   ]
  },
  {
   "cell_type": "markdown",
   "id": "1c796cee",
   "metadata": {},
   "source": [
    "### 2) XGBoost"
   ]
  },
  {
   "cell_type": "code",
   "execution_count": 72,
   "id": "22ae4219",
   "metadata": {},
   "outputs": [
    {
     "name": "stdout",
     "output_type": "stream",
     "text": [
      "Requirement already satisfied: xgboost in /Users/ttg/pyenv/lib/python3.7/site-packages (1.6.2)\n",
      "Requirement already satisfied: numpy in /Users/ttg/pyenv/lib/python3.7/site-packages (from xgboost) (1.21.6)\n",
      "Requirement already satisfied: scipy in /Users/ttg/pyenv/lib/python3.7/site-packages (from xgboost) (1.7.3)\n",
      "\u001b[33mWARNING: You are using pip version 21.1.2; however, version 23.1 is available.\n",
      "You should consider upgrading via the '/Users/ttg/pyenv/bin/python3 -m pip install --upgrade pip' command.\u001b[0m\n"
     ]
    }
   ],
   "source": [
    "!pip install xgboost"
   ]
  },
  {
   "cell_type": "code",
   "execution_count": 66,
   "id": "8ab4a07a",
   "metadata": {},
   "outputs": [],
   "source": [
    "import xgboost as xgb"
   ]
  },
  {
   "cell_type": "code",
   "execution_count": 74,
   "id": "c57f8255",
   "metadata": {},
   "outputs": [],
   "source": [
    "lr_xgb = xgb.XGBRegressor( n_estimators=5000, n_jobs=5, booster='gbtree',\n",
    "                                    max_depth=10, learning_rate=0.01,\n",
    "                                    colsample_bynode=0.6,\n",
    "                                    subsample=0.6,\n",
    "                                    verbosity=1).fit(encoded_df[new_encode_predictors + int_predictors], encoded_df[target])"
   ]
  },
  {
   "cell_type": "markdown",
   "id": "970d54c5",
   "metadata": {},
   "source": [
    "## Model Validation"
   ]
  },
  {
   "cell_type": "markdown",
   "id": "e390f02d",
   "metadata": {},
   "source": [
    "### 1) Random Forest model"
   ]
  },
  {
   "cell_type": "code",
   "execution_count": 67,
   "id": "9faac220",
   "metadata": {},
   "outputs": [],
   "source": [
    "from sklearn.metrics import mean_squared_error"
   ]
  },
  {
   "cell_type": "markdown",
   "id": "03e7956a",
   "metadata": {},
   "source": [
    "#### Error on Training data"
   ]
  },
  {
   "cell_type": "code",
   "execution_count": 86,
   "id": "b3efceb0",
   "metadata": {},
   "outputs": [
    {
     "name": "stderr",
     "output_type": "stream",
     "text": [
      "[Parallel(n_jobs=5)]: Using backend ThreadingBackend with 5 concurrent workers.\n",
      "[Parallel(n_jobs=5)]: Done  40 tasks      | elapsed:    0.3s\n",
      "[Parallel(n_jobs=5)]: Done 190 tasks      | elapsed:    1.3s\n",
      "[Parallel(n_jobs=5)]: Done 440 tasks      | elapsed:    3.3s\n",
      "[Parallel(n_jobs=5)]: Done 790 tasks      | elapsed:    6.4s\n",
      "[Parallel(n_jobs=5)]: Done 1240 tasks      | elapsed:   11.6s\n",
      "[Parallel(n_jobs=5)]: Done 1790 tasks      | elapsed:   18.5s\n",
      "[Parallel(n_jobs=5)]: Done 2440 tasks      | elapsed:   25.2s\n",
      "[Parallel(n_jobs=5)]: Done 3190 tasks      | elapsed:   34.2s\n",
      "[Parallel(n_jobs=5)]: Done 4040 tasks      | elapsed:   46.5s\n",
      "[Parallel(n_jobs=5)]: Done 4990 tasks      | elapsed:  1.1min\n",
      "[Parallel(n_jobs=5)]: Done 5000 out of 5000 | elapsed:  1.1min finished\n"
     ]
    }
   ],
   "source": [
    "encoded_df['RF_Predicted_Sold_Amount'] = lr_rf.predict(encoded_df[new_encode_predictors + int_predictors])"
   ]
  },
  {
   "cell_type": "code",
   "execution_count": 87,
   "id": "edeece05",
   "metadata": {},
   "outputs": [
    {
     "name": "stdout",
     "output_type": "stream",
     "text": [
      "Training Data RMSE = 1294.82\n"
     ]
    }
   ],
   "source": [
    "rmse = mean_squared_error(encoded_df['Sold_Amount'], encoded_df['RF_Predicted_Sold_Amount'],squared=False)\n",
    "print('Training Data RMSE =',round(rmse,2))"
   ]
  },
  {
   "cell_type": "markdown",
   "id": "ddbaf64b",
   "metadata": {},
   "source": [
    "#### Error on Testing data"
   ]
  },
  {
   "cell_type": "code",
   "execution_count": 76,
   "id": "5b69d11b",
   "metadata": {},
   "outputs": [
    {
     "name": "stderr",
     "output_type": "stream",
     "text": [
      "[Parallel(n_jobs=5)]: Using backend ThreadingBackend with 5 concurrent workers.\n",
      "[Parallel(n_jobs=5)]: Done  40 tasks      | elapsed:    0.2s\n",
      "[Parallel(n_jobs=5)]: Done 190 tasks      | elapsed:    1.1s\n",
      "[Parallel(n_jobs=5)]: Done 440 tasks      | elapsed:    2.3s\n",
      "[Parallel(n_jobs=5)]: Done 790 tasks      | elapsed:    4.2s\n",
      "[Parallel(n_jobs=5)]: Done 1240 tasks      | elapsed:    6.6s\n",
      "[Parallel(n_jobs=5)]: Done 1790 tasks      | elapsed:    9.9s\n",
      "[Parallel(n_jobs=5)]: Done 2440 tasks      | elapsed:   14.1s\n",
      "[Parallel(n_jobs=5)]: Done 3190 tasks      | elapsed:   18.1s\n",
      "[Parallel(n_jobs=5)]: Done 4040 tasks      | elapsed:   23.3s\n",
      "[Parallel(n_jobs=5)]: Done 4990 tasks      | elapsed:   29.6s\n",
      "[Parallel(n_jobs=5)]: Done 5000 out of 5000 | elapsed:   29.6s finished\n"
     ]
    }
   ],
   "source": [
    "encoded_test_df['RF_Predicted_Sold_Amount'] = lr_rf.predict(encoded_test_df[new_encode_predictors + int_predictors])"
   ]
  },
  {
   "cell_type": "code",
   "execution_count": 77,
   "id": "51561c86",
   "metadata": {},
   "outputs": [
    {
     "name": "stdout",
     "output_type": "stream",
     "text": [
      "RMSE = 4425.41\n"
     ]
    }
   ],
   "source": [
    "rmse = mean_squared_error(encoded_test_df['Sold_Amount'], encoded_test_df['RF_Predicted_Sold_Amount'],squared=False)\n",
    "print('Testing Data RMSE =',round(rmse,2))"
   ]
  },
  {
   "cell_type": "markdown",
   "id": "17203f85",
   "metadata": {},
   "source": [
    "### Check Robustness of the RF model"
   ]
  },
  {
   "cell_type": "markdown",
   "id": "e5dc2813",
   "metadata": {},
   "source": [
    "Here, we rank the predited_sold_amount in ascending order. Then the dataset is sorted by ranked column. After that divide the entire dataset into n number of buckets , each bucket contains equal number records. For each bucket, we get average actual_sold_amount and average predicted_sold_amount."
   ]
  },
  {
   "cell_type": "code",
   "execution_count": 78,
   "id": "dee08545",
   "metadata": {},
   "outputs": [],
   "source": [
    "\n",
    "def robustness(df_true_pred, y_true_col_name, y_pred_col_name, bins=10, rank_col_num=2):\n",
    "\n",
    "    y_test = df_true_pred[y_true_col_name]\n",
    "    y_pred = df_true_pred[y_pred_col_name]\n",
    "\n",
    "    y_test = pd.DataFrame(y_test)\n",
    "    actual = y_test.reset_index(drop=True)\n",
    "    actual = actual.rename(columns={y_true_col_name: \"actual\"})\n",
    "\n",
    "    predicted = pd.DataFrame(y_pred)\n",
    "    predicted = predicted.rename(columns={y_pred_col_name: \"predicted\"})\n",
    "    predicted = predicted.reset_index(drop=True)\n",
    "\n",
    "    df = pd.concat([actual, predicted], axis=1, sort=False)\n",
    "\n",
    "    df['pred_rank'] = df['predicted'].rank(ascending=True)\n",
    "    df.sort_values(by=['pred_rank'], inplace=True, ascending=True)\n",
    "    df['rank_group'] = np.nan\n",
    "\n",
    "    df2 = df.reset_index(drop=True)\n",
    "    df2 = df2[['actual', 'predicted', 'rank_group']]\n",
    "\n",
    "    bin_size = round(df2.shape[0] * (1 / bins), 0)\n",
    "    start_qt = 0\n",
    "    end_qt = bin_size\n",
    "\n",
    "    for i in range(bins):\n",
    "        if (i + 1) != bins:\n",
    "            df2.iloc[lambda x: (x.index >= start_qt) & (x.index < end_qt), [rank_col_num]] = (\n",
    "                        i + 1)\n",
    "\n",
    "            start_qt = end_qt\n",
    "            end_qt = end_qt + bin_size\n",
    "        else:\n",
    "            df2.iloc[lambda x: (x.index >= start_qt), [rank_col_num]] = (i + 1)\n",
    "\n",
    "    df2['rank_group'] = df2['rank_group'].astype('int64')\n",
    "    df_mean = df2.groupby('rank_group').mean()\n",
    "    df_count = df2.groupby('rank_group').count()\n",
    "\n",
    "    df_mean = df_mean.rename(columns={'actual': 'avg_actual', 'predicted': 'avg_predicted'})\n",
    "\n",
    "    df_count = df_count.rename(columns={'actual': 'Count'})\n",
    "    df_robust = pd.concat([df_mean, df_count['Count']], axis=1)\n",
    "\n",
    "    df_total_avg = (pd.DataFrame(df_robust.mean()).T)\n",
    "    df_total_avg = df_total_avg.rename(index={0: 'Total average'})\n",
    "    df_robust = df_robust.append(df_total_avg, ignore_index=False)\n",
    "\n",
    "    df_robust['avg_actual'] = df_robust['avg_actual'].round(decimals=2)\n",
    "    df_robust['avg_predicted'] = df_robust['avg_predicted'].round(decimals=2)\n",
    "    df_robust['Count'] = df_robust['Count'].round(decimals=1)\n",
    "\n",
    "    return df_robust"
   ]
  },
  {
   "cell_type": "code",
   "execution_count": 79,
   "id": "eaa5e59a",
   "metadata": {},
   "outputs": [
    {
     "data": {
      "text/html": [
       "<div>\n",
       "<style scoped>\n",
       "    .dataframe tbody tr th:only-of-type {\n",
       "        vertical-align: middle;\n",
       "    }\n",
       "\n",
       "    .dataframe tbody tr th {\n",
       "        vertical-align: top;\n",
       "    }\n",
       "\n",
       "    .dataframe thead th {\n",
       "        text-align: right;\n",
       "    }\n",
       "</style>\n",
       "<table border=\"1\" class=\"dataframe\">\n",
       "  <thead>\n",
       "    <tr style=\"text-align: right;\">\n",
       "      <th></th>\n",
       "      <th>avg_actual</th>\n",
       "      <th>avg_predicted</th>\n",
       "      <th>Count</th>\n",
       "    </tr>\n",
       "  </thead>\n",
       "  <tbody>\n",
       "    <tr>\n",
       "      <th>1</th>\n",
       "      <td>6103.77</td>\n",
       "      <td>5776.34</td>\n",
       "      <td>1149.0</td>\n",
       "    </tr>\n",
       "    <tr>\n",
       "      <th>2</th>\n",
       "      <td>9651.40</td>\n",
       "      <td>9477.74</td>\n",
       "      <td>1149.0</td>\n",
       "    </tr>\n",
       "    <tr>\n",
       "      <th>3</th>\n",
       "      <td>11966.22</td>\n",
       "      <td>11460.38</td>\n",
       "      <td>1149.0</td>\n",
       "    </tr>\n",
       "    <tr>\n",
       "      <th>4</th>\n",
       "      <td>13361.83</td>\n",
       "      <td>13118.36</td>\n",
       "      <td>1149.0</td>\n",
       "    </tr>\n",
       "    <tr>\n",
       "      <th>5</th>\n",
       "      <td>15287.33</td>\n",
       "      <td>14611.77</td>\n",
       "      <td>1149.0</td>\n",
       "    </tr>\n",
       "    <tr>\n",
       "      <th>6</th>\n",
       "      <td>16883.95</td>\n",
       "      <td>16267.91</td>\n",
       "      <td>1149.0</td>\n",
       "    </tr>\n",
       "    <tr>\n",
       "      <th>7</th>\n",
       "      <td>19016.64</td>\n",
       "      <td>18418.11</td>\n",
       "      <td>1149.0</td>\n",
       "    </tr>\n",
       "    <tr>\n",
       "      <th>8</th>\n",
       "      <td>21546.85</td>\n",
       "      <td>21305.43</td>\n",
       "      <td>1149.0</td>\n",
       "    </tr>\n",
       "    <tr>\n",
       "      <th>9</th>\n",
       "      <td>26147.38</td>\n",
       "      <td>25186.16</td>\n",
       "      <td>1149.0</td>\n",
       "    </tr>\n",
       "    <tr>\n",
       "      <th>10</th>\n",
       "      <td>41496.44</td>\n",
       "      <td>39847.60</td>\n",
       "      <td>1147.0</td>\n",
       "    </tr>\n",
       "    <tr>\n",
       "      <th>Total average</th>\n",
       "      <td>18146.18</td>\n",
       "      <td>17546.98</td>\n",
       "      <td>1148.8</td>\n",
       "    </tr>\n",
       "  </tbody>\n",
       "</table>\n",
       "</div>"
      ],
      "text/plain": [
       "               avg_actual  avg_predicted   Count\n",
       "1                 6103.77        5776.34  1149.0\n",
       "2                 9651.40        9477.74  1149.0\n",
       "3                11966.22       11460.38  1149.0\n",
       "4                13361.83       13118.36  1149.0\n",
       "5                15287.33       14611.77  1149.0\n",
       "6                16883.95       16267.91  1149.0\n",
       "7                19016.64       18418.11  1149.0\n",
       "8                21546.85       21305.43  1149.0\n",
       "9                26147.38       25186.16  1149.0\n",
       "10               41496.44       39847.60  1147.0\n",
       "Total average    18146.18       17546.98  1148.8"
      ]
     },
     "execution_count": 79,
     "metadata": {},
     "output_type": "execute_result"
    }
   ],
   "source": [
    "robustness(encoded_test_df, y_true_col_name='Sold_Amount', y_pred_col_name ='RF_Predicted_Sold_Amount', bins=10)"
   ]
  },
  {
   "cell_type": "markdown",
   "id": "7655c831",
   "metadata": {},
   "source": [
    "As you can see, average actuals are monotonically incraesing. Which means our model is performing well(stable) in different stages of the target."
   ]
  },
  {
   "cell_type": "markdown",
   "id": "07a7e19c",
   "metadata": {},
   "source": [
    "### 2) XGBoost model"
   ]
  },
  {
   "cell_type": "markdown",
   "id": "4bdeb412",
   "metadata": {},
   "source": [
    "#### Error on Training Data"
   ]
  },
  {
   "cell_type": "code",
   "execution_count": 88,
   "id": "a67b958d",
   "metadata": {},
   "outputs": [],
   "source": [
    "encoded_df['XGB_Predicted_Sold_Amount'] = lr_xgb.predict(encoded_df[new_encode_predictors + int_predictors])"
   ]
  },
  {
   "cell_type": "code",
   "execution_count": 89,
   "id": "88109910",
   "metadata": {},
   "outputs": [
    {
     "name": "stdout",
     "output_type": "stream",
     "text": [
      "Training Data RMSE = 1402.16\n"
     ]
    }
   ],
   "source": [
    "rmse = mean_squared_error(encoded_df['Sold_Amount'], encoded_df['XGB_Predicted_Sold_Amount'],squared=False)\n",
    "print('Training Data RMSE =',round(rmse,2))"
   ]
  },
  {
   "cell_type": "markdown",
   "id": "a8346f6d",
   "metadata": {},
   "source": [
    "#### Error on Testing Data"
   ]
  },
  {
   "cell_type": "code",
   "execution_count": 80,
   "id": "36009b01",
   "metadata": {},
   "outputs": [],
   "source": [
    "encoded_test_df['XGB_Predicted_Sold_Amount'] = lr_xgb.predict(encoded_test_df[new_encode_predictors + int_predictors])"
   ]
  },
  {
   "cell_type": "code",
   "execution_count": 90,
   "id": "a7ee41f9",
   "metadata": {},
   "outputs": [
    {
     "name": "stdout",
     "output_type": "stream",
     "text": [
      "Testing Data RMSE = 4034.98\n"
     ]
    }
   ],
   "source": [
    "rmse = mean_squared_error(encoded_test_df['Sold_Amount'], encoded_test_df['XGB_Predicted_Sold_Amount'],squared=False)\n",
    "print('Testing Data RMSE =',round(rmse,2))"
   ]
  },
  {
   "cell_type": "markdown",
   "id": "95e7543d",
   "metadata": {},
   "source": [
    "When Compared with RF model, Xgboost model gives better prediction since the error is low."
   ]
  },
  {
   "cell_type": "markdown",
   "id": "d3e3ca4b",
   "metadata": {},
   "source": [
    "### Check Robustness of the XGB model"
   ]
  },
  {
   "cell_type": "code",
   "execution_count": 82,
   "id": "bafc70de",
   "metadata": {
    "scrolled": false
   },
   "outputs": [
    {
     "data": {
      "text/html": [
       "<div>\n",
       "<style scoped>\n",
       "    .dataframe tbody tr th:only-of-type {\n",
       "        vertical-align: middle;\n",
       "    }\n",
       "\n",
       "    .dataframe tbody tr th {\n",
       "        vertical-align: top;\n",
       "    }\n",
       "\n",
       "    .dataframe thead th {\n",
       "        text-align: right;\n",
       "    }\n",
       "</style>\n",
       "<table border=\"1\" class=\"dataframe\">\n",
       "  <thead>\n",
       "    <tr style=\"text-align: right;\">\n",
       "      <th></th>\n",
       "      <th>avg_actual</th>\n",
       "      <th>avg_predicted</th>\n",
       "      <th>Count</th>\n",
       "    </tr>\n",
       "  </thead>\n",
       "  <tbody>\n",
       "    <tr>\n",
       "      <th>1</th>\n",
       "      <td>5706.83</td>\n",
       "      <td>5629.08</td>\n",
       "      <td>1149.0</td>\n",
       "    </tr>\n",
       "    <tr>\n",
       "      <th>2</th>\n",
       "      <td>9526.22</td>\n",
       "      <td>9370.60</td>\n",
       "      <td>1149.0</td>\n",
       "    </tr>\n",
       "    <tr>\n",
       "      <th>3</th>\n",
       "      <td>11739.86</td>\n",
       "      <td>11353.25</td>\n",
       "      <td>1149.0</td>\n",
       "    </tr>\n",
       "    <tr>\n",
       "      <th>4</th>\n",
       "      <td>13462.48</td>\n",
       "      <td>13058.78</td>\n",
       "      <td>1149.0</td>\n",
       "    </tr>\n",
       "    <tr>\n",
       "      <th>5</th>\n",
       "      <td>15024.67</td>\n",
       "      <td>14646.06</td>\n",
       "      <td>1149.0</td>\n",
       "    </tr>\n",
       "    <tr>\n",
       "      <th>6</th>\n",
       "      <td>17070.40</td>\n",
       "      <td>16415.37</td>\n",
       "      <td>1149.0</td>\n",
       "    </tr>\n",
       "    <tr>\n",
       "      <th>7</th>\n",
       "      <td>19062.43</td>\n",
       "      <td>18629.31</td>\n",
       "      <td>1149.0</td>\n",
       "    </tr>\n",
       "    <tr>\n",
       "      <th>8</th>\n",
       "      <td>21814.96</td>\n",
       "      <td>21431.89</td>\n",
       "      <td>1149.0</td>\n",
       "    </tr>\n",
       "    <tr>\n",
       "      <th>9</th>\n",
       "      <td>26211.14</td>\n",
       "      <td>25567.62</td>\n",
       "      <td>1149.0</td>\n",
       "    </tr>\n",
       "    <tr>\n",
       "      <th>10</th>\n",
       "      <td>41843.41</td>\n",
       "      <td>40464.52</td>\n",
       "      <td>1147.0</td>\n",
       "    </tr>\n",
       "    <tr>\n",
       "      <th>Total average</th>\n",
       "      <td>18146.24</td>\n",
       "      <td>17656.64</td>\n",
       "      <td>1148.8</td>\n",
       "    </tr>\n",
       "  </tbody>\n",
       "</table>\n",
       "</div>"
      ],
      "text/plain": [
       "               avg_actual  avg_predicted   Count\n",
       "1                 5706.83        5629.08  1149.0\n",
       "2                 9526.22        9370.60  1149.0\n",
       "3                11739.86       11353.25  1149.0\n",
       "4                13462.48       13058.78  1149.0\n",
       "5                15024.67       14646.06  1149.0\n",
       "6                17070.40       16415.37  1149.0\n",
       "7                19062.43       18629.31  1149.0\n",
       "8                21814.96       21431.89  1149.0\n",
       "9                26211.14       25567.62  1149.0\n",
       "10               41843.41       40464.52  1147.0\n",
       "Total average    18146.24       17656.64  1148.8"
      ]
     },
     "execution_count": 82,
     "metadata": {},
     "output_type": "execute_result"
    }
   ],
   "source": [
    "robustness(encoded_test_df, y_true_col_name='Sold_Amount', y_pred_col_name ='XGB_Predicted_Sold_Amount', bins=10)"
   ]
  },
  {
   "cell_type": "markdown",
   "id": "5bc2ce89",
   "metadata": {},
   "source": [
    "As the RF model, the Xgboost model is performing well(stable) in different stages of the target since average values of actuals are monotonically incraesing. Further  more, Xgboost model has higher robustness than the RF model, since the gaps between average values of actuals and avearge values of predictions in each bucket are small when compered with RF model"
   ]
  },
  {
   "cell_type": "markdown",
   "id": "50739c91",
   "metadata": {},
   "source": [
    "## Save Model"
   ]
  },
  {
   "cell_type": "code",
   "execution_count": 83,
   "id": "bc75f302",
   "metadata": {},
   "outputs": [],
   "source": [
    "import joblib"
   ]
  },
  {
   "cell_type": "code",
   "execution_count": 139,
   "id": "dbe7d8bc",
   "metadata": {},
   "outputs": [],
   "source": [
    "#joblib.dump(lr_rf,'rf_reg_model_1.joblib', compress=3)"
   ]
  },
  {
   "cell_type": "code",
   "execution_count": 85,
   "id": "837398fb",
   "metadata": {},
   "outputs": [
    {
     "data": {
      "text/plain": [
       "['xgb_reg_model_1.joblib']"
      ]
     },
     "execution_count": 85,
     "metadata": {},
     "output_type": "execute_result"
    }
   ],
   "source": [
    "joblib.dump(lr_xgb,'xgb_reg_model_1.joblib', compress=3)"
   ]
  },
  {
   "cell_type": "markdown",
   "id": "ae6b8c38",
   "metadata": {},
   "source": [
    "## Tracking experiments using MLFlow"
   ]
  },
  {
   "cell_type": "markdown",
   "id": "920c6e6e",
   "metadata": {},
   "source": [
    "* Here, I only play with XGBoost model, We can do the same for RF model"
   ]
  },
  {
   "cell_type": "code",
   "execution_count": 123,
   "id": "9680e70c",
   "metadata": {},
   "outputs": [
    {
     "name": "stdout",
     "output_type": "stream",
     "text": [
      "\u001b[33mWARNING: You are using pip version 21.1.2; however, version 23.1 is available.\r\n",
      "You should consider upgrading via the '/Users/ttg/pyenv/bin/python3 -m pip install --upgrade pip' command.\u001b[0m\r\n"
     ]
    }
   ],
   "source": [
    "!pip install mlflow --quiet"
   ]
  },
  {
   "cell_type": "code",
   "execution_count": 68,
   "id": "09d5fcee",
   "metadata": {},
   "outputs": [],
   "source": [
    "def eval_metrics(actual, pred):\n",
    "    rmse = np.sqrt(mean_squared_error(actual, pred))\n",
    "    mae = mean_absolute_error(actual, pred)\n",
    "    r2 = r2_score(actual, pred)\n",
    "    return rmse, mae, r2"
   ]
  },
  {
   "cell_type": "code",
   "execution_count": 69,
   "id": "fa0b43ab",
   "metadata": {},
   "outputs": [],
   "source": [
    "import mlflow\n",
    "from sklearn.metrics import mean_squared_error, mean_absolute_error, r2_score\n",
    "from urllib.parse import urlparse"
   ]
  },
  {
   "cell_type": "code",
   "execution_count": 102,
   "id": "528a254b",
   "metadata": {},
   "outputs": [],
   "source": [
    "mlflow.set_tracking_uri(\"sqlite:///mlflow.db\")"
   ]
  },
  {
   "cell_type": "code",
   "execution_count": 122,
   "id": "58f5f960",
   "metadata": {},
   "outputs": [
    {
     "name": "stdout",
     "output_type": "stream",
     "text": [
      "4\n"
     ]
    }
   ],
   "source": [
    "import os\n",
    "mlflow.set_tracking_uri(os.getenv(\"MLFLOW_TRACKING_URI\"))\n",
    "\n",
    "def get_experiment_id(name):\n",
    "    exp = mlflow.get_experiment_by_name(name)\n",
    "    if exp is None:\n",
    "        exp_id = mlflow.create_experiment(name)\n",
    "        return exp_id\n",
    "    return exp.experiment_id\n",
    "\n",
    "print(get_experiment_id(\"datium2\"))"
   ]
  },
  {
   "cell_type": "code",
   "execution_count": 132,
   "id": "3351eb5c",
   "metadata": {},
   "outputs": [],
   "source": [
    "n_estimators = 3000\n",
    "n_jobs = 5\n",
    "max_depth = 10\n",
    "learning_rate = 0.01"
   ]
  },
  {
   "cell_type": "code",
   "execution_count": 133,
   "id": "7047c6e3",
   "metadata": {},
   "outputs": [
    {
     "name": "stdout",
     "output_type": "stream",
     "text": [
      "XGBoost model (n_estimators=3000, n_jobs=5, max_depth=10, learning_rate=0.01):,\n",
      "  RMSE: 4023.6232298817336\n",
      "  MAE: 2560.2057994466372\n",
      "  R2: 0.8752443837717783\n"
     ]
    }
   ],
   "source": [
    "with mlflow.start_run(experiment_id=4):\n",
    "        \n",
    "        lr_xgb = xgb.XGBRegressor( n_estimators=n_estimators, n_jobs=n_jobs , booster='gbtree',\n",
    "                                    max_depth=max_depth, learning_rate=learning_rate,\n",
    "                                    colsample_bynode=0.6,\n",
    "                                    subsample=0.6,\n",
    "                                    verbosity=1).fit(encoded_df[new_encode_predictors + int_predictors], encoded_df[target])\n",
    "\n",
    "        encoded_test_df['XGB_Predicted_Sold_Amount'] = lr_xgb.predict(encoded_test_df[new_encode_predictors + int_predictors])\n",
    "\n",
    "        (rmse, mae, r2) = eval_metrics( encoded_test_df['Sold_Amount'],  encoded_test_df['XGB_Predicted_Sold_Amount'])\n",
    "\n",
    "        print(\"XGBoost model (n_estimators={:d}, n_jobs={:d}, max_depth={:d}, learning_rate={:1.2f}):,\".format(n_estimators, n_jobs, max_depth, learning_rate))\n",
    "        print(\"  RMSE: %s\" % rmse)\n",
    "        print(\"  MAE: %s\" % mae)\n",
    "        print(\"  R2: %s\" % r2)\n",
    "\n",
    "        mlflow.log_param(\"n_estimators\", n_estimators)\n",
    "        mlflow.log_param(\"n_jobs\", n_jobs)\n",
    "        mlflow.log_param(\"max_depth\", max_depth)\n",
    "        mlflow.log_param(\"learning_rate\", learning_rate)\n",
    "        \n",
    "        mlflow.log_metric(\"rmse\", rmse)\n",
    "        mlflow.log_metric(\"r2\", r2)\n",
    "        mlflow.log_metric(\"mae\", mae)\n",
    "\n",
    "        tracking_url_type_store = urlparse(mlflow.get_tracking_uri()).scheme\n",
    "\n",
    "        # Model registry does not work with file store\n",
    "        if tracking_url_type_store != \"file\":\n",
    "            # Register the model\n",
    "            mlflow.sklearn.log_model(lr_xgb, \"model\", registered_model_name=\"XGBoostModel\")\n",
    "        else:\n",
    "            mlflow.sklearn.log_model(lr_xgb, \"model\")"
   ]
  },
  {
   "cell_type": "code",
   "execution_count": 136,
   "id": "6dbe1722",
   "metadata": {
    "scrolled": true
   },
   "outputs": [
    {
     "name": "stdout",
     "output_type": "stream",
     "text": [
      "[2023-04-19 15:33:11 +0530] [46929] [INFO] Starting gunicorn 20.1.0\n",
      "[2023-04-19 15:33:11 +0530] [46929] [INFO] Listening at: http://127.0.0.1:5000 (46929)\n",
      "[2023-04-19 15:33:11 +0530] [46929] [INFO] Using worker: sync\n",
      "[2023-04-19 15:33:11 +0530] [46932] [INFO] Booting worker with pid: 46932\n",
      "^C\n",
      "[2023-04-19 15:37:54 +0530] [46929] [INFO] Handling signal: int\n"
     ]
    }
   ],
   "source": [
    "!mlflow ui"
   ]
  },
  {
   "cell_type": "code",
   "execution_count": 137,
   "id": "1ed9bf90",
   "metadata": {},
   "outputs": [],
   "source": [
    "mlflow.end_run()"
   ]
  },
  {
   "cell_type": "markdown",
   "id": "b06aaba2",
   "metadata": {},
   "source": [
    "## Summary and Discussion"
   ]
  },
  {
   "cell_type": "markdown",
   "id": "92461c8e",
   "metadata": {},
   "source": [
    "* The goal of this exercise is to predict vehicle sale prices (Sold_Amount).\n",
    "* Training data contains 50,704 number of rows and 130 number of columns.\n",
    "* Testing Data contains 11,488 number of rows and 130 number of columns.\n",
    "* We have built two models using two diffrent algorithms(RF/Xgboost).\n",
    "* Xgboost model performs well in given data when compared with other model."
   ]
  },
  {
   "cell_type": "markdown",
   "id": "83a4e46a",
   "metadata": {},
   "source": [
    "## Next steps to improve the model performance:"
   ]
  },
  {
   "cell_type": "markdown",
   "id": "ff67181a",
   "metadata": {},
   "source": [
    "*  Select or engineering new features.\n",
    "*  Optimize the model\n",
    "*  Try different algorithms\n",
    "*  Use more data to train the model"
   ]
  }
 ],
 "metadata": {
  "kernelspec": {
   "display_name": "Python 3",
   "language": "python",
   "name": "python3"
  },
  "language_info": {
   "codemirror_mode": {
    "name": "ipython",
    "version": 3
   },
   "file_extension": ".py",
   "mimetype": "text/x-python",
   "name": "python",
   "nbconvert_exporter": "python",
   "pygments_lexer": "ipython3",
   "version": "3.7.3"
  }
 },
 "nbformat": 4,
 "nbformat_minor": 5
}
